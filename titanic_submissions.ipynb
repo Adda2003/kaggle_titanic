{
 "cells": [
  {
   "cell_type": "markdown",
   "id": "08d75352",
   "metadata": {},
   "source": [
    "# data pre-processing"
   ]
  },
  {
   "cell_type": "code",
   "execution_count": 1,
   "id": "d00c70cc",
   "metadata": {},
   "outputs": [],
   "source": [
    "import pandas as pd\n",
    "import numpy as np\n",
    "import matplotlib.pyplot as plt\n",
    "import seaborn as sns\n",
    "%matplotlib inline"
   ]
  },
  {
   "cell_type": "code",
   "execution_count": 2,
   "id": "eddb8c91",
   "metadata": {},
   "outputs": [],
   "source": [
    "train=pd.read_csv('train.csv')\n",
    "test=pd.read_csv('test.csv')"
   ]
  },
  {
   "cell_type": "code",
   "execution_count": 4,
   "id": "c9b0a0e9",
   "metadata": {},
   "outputs": [
    {
     "data": {
      "text/plain": [
       "PassengerId      0\n",
       "Survived         0\n",
       "Pclass           0\n",
       "Name             0\n",
       "Sex              0\n",
       "Age            177\n",
       "SibSp            0\n",
       "Parch            0\n",
       "Ticket           0\n",
       "Fare             0\n",
       "Cabin          687\n",
       "Embarked         2\n",
       "dtype: int64"
      ]
     },
     "execution_count": 4,
     "metadata": {},
     "output_type": "execute_result"
    }
   ],
   "source": [
    "train.isnull().sum()"
   ]
  },
  {
   "cell_type": "code",
   "execution_count": 5,
   "id": "582a2b92",
   "metadata": {},
   "outputs": [
    {
     "data": {
      "text/plain": [
       "PassengerId      0\n",
       "Pclass           0\n",
       "Name             0\n",
       "Sex              0\n",
       "Age             86\n",
       "SibSp            0\n",
       "Parch            0\n",
       "Ticket           0\n",
       "Fare             1\n",
       "Cabin          327\n",
       "Embarked         0\n",
       "dtype: int64"
      ]
     },
     "execution_count": 5,
     "metadata": {},
     "output_type": "execute_result"
    }
   ],
   "source": [
    "test.isnull().sum()"
   ]
  },
  {
   "cell_type": "code",
   "execution_count": 6,
   "id": "e6d25419",
   "metadata": {},
   "outputs": [],
   "source": [
    "train_data = train.copy()\n",
    "test_data = test.copy()"
   ]
  },
  {
   "cell_type": "code",
   "execution_count": 7,
   "id": "7e120a46",
   "metadata": {},
   "outputs": [],
   "source": [
    "#fill median value of age\n",
    "train_data[\"Age\"].fillna(train[\"Age\"].median(skipna=True), inplace=True)\n",
    "test_data[\"Age\"].fillna(test[\"Age\"].median(skipna=True), inplace=True)\n",
    "test_data[\"Fare\"].fillna(test[\"Fare\"].median(skipna=True),inplace=True)"
   ]
  },
  {
   "cell_type": "code",
   "execution_count": 8,
   "id": "0a6769a8",
   "metadata": {},
   "outputs": [],
   "source": [
    "train_data.drop('Cabin',axis=1,inplace=True)\n",
    "test_data.drop('Cabin',axis=1,inplace=True)"
   ]
  },
  {
   "cell_type": "code",
   "execution_count": 9,
   "id": "488ec60f",
   "metadata": {},
   "outputs": [],
   "source": [
    "train_data[\"Embarked\"].fillna(train['Embarked'].value_counts().idxmax(), inplace=True)\n",
    "test_data[\"Embarked\"].fillna(test['Embarked'].value_counts().idxmax(), inplace=True)"
   ]
  },
  {
   "cell_type": "code",
   "execution_count": 10,
   "id": "a549eb70",
   "metadata": {},
   "outputs": [
    {
     "data": {
      "text/plain": [
       "PassengerId    0\n",
       "Survived       0\n",
       "Pclass         0\n",
       "Name           0\n",
       "Sex            0\n",
       "Age            0\n",
       "SibSp          0\n",
       "Parch          0\n",
       "Ticket         0\n",
       "Fare           0\n",
       "Embarked       0\n",
       "dtype: int64"
      ]
     },
     "execution_count": 10,
     "metadata": {},
     "output_type": "execute_result"
    }
   ],
   "source": [
    "train_data.isnull().sum()"
   ]
  },
  {
   "cell_type": "code",
   "execution_count": 11,
   "id": "d51a0132",
   "metadata": {},
   "outputs": [
    {
     "data": {
      "text/plain": [
       "PassengerId    0\n",
       "Pclass         0\n",
       "Name           0\n",
       "Sex            0\n",
       "Age            0\n",
       "SibSp          0\n",
       "Parch          0\n",
       "Ticket         0\n",
       "Fare           0\n",
       "Embarked       0\n",
       "dtype: int64"
      ]
     },
     "execution_count": 11,
     "metadata": {},
     "output_type": "execute_result"
    }
   ],
   "source": [
    "test_data.isnull().sum()"
   ]
  },
  {
   "cell_type": "code",
   "execution_count": 12,
   "id": "c828bef6",
   "metadata": {},
   "outputs": [
    {
     "data": {
      "text/html": [
       "<div>\n",
       "<style scoped>\n",
       "    .dataframe tbody tr th:only-of-type {\n",
       "        vertical-align: middle;\n",
       "    }\n",
       "\n",
       "    .dataframe tbody tr th {\n",
       "        vertical-align: top;\n",
       "    }\n",
       "\n",
       "    .dataframe thead th {\n",
       "        text-align: right;\n",
       "    }\n",
       "</style>\n",
       "<table border=\"1\" class=\"dataframe\">\n",
       "  <thead>\n",
       "    <tr style=\"text-align: right;\">\n",
       "      <th></th>\n",
       "      <th>PassengerId</th>\n",
       "      <th>Survived</th>\n",
       "      <th>Pclass</th>\n",
       "      <th>Name</th>\n",
       "      <th>Sex</th>\n",
       "      <th>Age</th>\n",
       "      <th>SibSp</th>\n",
       "      <th>Parch</th>\n",
       "      <th>Ticket</th>\n",
       "      <th>Fare</th>\n",
       "      <th>Embarked</th>\n",
       "    </tr>\n",
       "  </thead>\n",
       "  <tbody>\n",
       "    <tr>\n",
       "      <th>0</th>\n",
       "      <td>1</td>\n",
       "      <td>0</td>\n",
       "      <td>3</td>\n",
       "      <td>Braund, Mr. Owen Harris</td>\n",
       "      <td>male</td>\n",
       "      <td>22.0</td>\n",
       "      <td>1</td>\n",
       "      <td>0</td>\n",
       "      <td>A/5 21171</td>\n",
       "      <td>7.2500</td>\n",
       "      <td>S</td>\n",
       "    </tr>\n",
       "    <tr>\n",
       "      <th>1</th>\n",
       "      <td>2</td>\n",
       "      <td>1</td>\n",
       "      <td>1</td>\n",
       "      <td>Cumings, Mrs. John Bradley (Florence Briggs Th...</td>\n",
       "      <td>female</td>\n",
       "      <td>38.0</td>\n",
       "      <td>1</td>\n",
       "      <td>0</td>\n",
       "      <td>PC 17599</td>\n",
       "      <td>71.2833</td>\n",
       "      <td>C</td>\n",
       "    </tr>\n",
       "    <tr>\n",
       "      <th>2</th>\n",
       "      <td>3</td>\n",
       "      <td>1</td>\n",
       "      <td>3</td>\n",
       "      <td>Heikkinen, Miss. Laina</td>\n",
       "      <td>female</td>\n",
       "      <td>26.0</td>\n",
       "      <td>0</td>\n",
       "      <td>0</td>\n",
       "      <td>STON/O2. 3101282</td>\n",
       "      <td>7.9250</td>\n",
       "      <td>S</td>\n",
       "    </tr>\n",
       "    <tr>\n",
       "      <th>3</th>\n",
       "      <td>4</td>\n",
       "      <td>1</td>\n",
       "      <td>1</td>\n",
       "      <td>Futrelle, Mrs. Jacques Heath (Lily May Peel)</td>\n",
       "      <td>female</td>\n",
       "      <td>35.0</td>\n",
       "      <td>1</td>\n",
       "      <td>0</td>\n",
       "      <td>113803</td>\n",
       "      <td>53.1000</td>\n",
       "      <td>S</td>\n",
       "    </tr>\n",
       "    <tr>\n",
       "      <th>4</th>\n",
       "      <td>5</td>\n",
       "      <td>0</td>\n",
       "      <td>3</td>\n",
       "      <td>Allen, Mr. William Henry</td>\n",
       "      <td>male</td>\n",
       "      <td>35.0</td>\n",
       "      <td>0</td>\n",
       "      <td>0</td>\n",
       "      <td>373450</td>\n",
       "      <td>8.0500</td>\n",
       "      <td>S</td>\n",
       "    </tr>\n",
       "  </tbody>\n",
       "</table>\n",
       "</div>"
      ],
      "text/plain": [
       "   PassengerId  Survived  Pclass  \\\n",
       "0            1         0       3   \n",
       "1            2         1       1   \n",
       "2            3         1       3   \n",
       "3            4         1       1   \n",
       "4            5         0       3   \n",
       "\n",
       "                                                Name     Sex   Age  SibSp  \\\n",
       "0                            Braund, Mr. Owen Harris    male  22.0      1   \n",
       "1  Cumings, Mrs. John Bradley (Florence Briggs Th...  female  38.0      1   \n",
       "2                             Heikkinen, Miss. Laina  female  26.0      0   \n",
       "3       Futrelle, Mrs. Jacques Heath (Lily May Peel)  female  35.0      1   \n",
       "4                           Allen, Mr. William Henry    male  35.0      0   \n",
       "\n",
       "   Parch            Ticket     Fare Embarked  \n",
       "0      0         A/5 21171   7.2500        S  \n",
       "1      0          PC 17599  71.2833        C  \n",
       "2      0  STON/O2. 3101282   7.9250        S  \n",
       "3      0            113803  53.1000        S  \n",
       "4      0            373450   8.0500        S  "
      ]
     },
     "execution_count": 12,
     "metadata": {},
     "output_type": "execute_result"
    }
   ],
   "source": [
    "train_data.head()"
   ]
  },
  {
   "cell_type": "code",
   "execution_count": 13,
   "id": "a6d7a519",
   "metadata": {},
   "outputs": [
    {
     "data": {
      "text/html": [
       "<div>\n",
       "<style scoped>\n",
       "    .dataframe tbody tr th:only-of-type {\n",
       "        vertical-align: middle;\n",
       "    }\n",
       "\n",
       "    .dataframe tbody tr th {\n",
       "        vertical-align: top;\n",
       "    }\n",
       "\n",
       "    .dataframe thead th {\n",
       "        text-align: right;\n",
       "    }\n",
       "</style>\n",
       "<table border=\"1\" class=\"dataframe\">\n",
       "  <thead>\n",
       "    <tr style=\"text-align: right;\">\n",
       "      <th></th>\n",
       "      <th>PassengerId</th>\n",
       "      <th>Pclass</th>\n",
       "      <th>Name</th>\n",
       "      <th>Sex</th>\n",
       "      <th>Age</th>\n",
       "      <th>SibSp</th>\n",
       "      <th>Parch</th>\n",
       "      <th>Ticket</th>\n",
       "      <th>Fare</th>\n",
       "      <th>Embarked</th>\n",
       "    </tr>\n",
       "  </thead>\n",
       "  <tbody>\n",
       "    <tr>\n",
       "      <th>0</th>\n",
       "      <td>892</td>\n",
       "      <td>3</td>\n",
       "      <td>Kelly, Mr. James</td>\n",
       "      <td>male</td>\n",
       "      <td>34.5</td>\n",
       "      <td>0</td>\n",
       "      <td>0</td>\n",
       "      <td>330911</td>\n",
       "      <td>7.8292</td>\n",
       "      <td>Q</td>\n",
       "    </tr>\n",
       "    <tr>\n",
       "      <th>1</th>\n",
       "      <td>893</td>\n",
       "      <td>3</td>\n",
       "      <td>Wilkes, Mrs. James (Ellen Needs)</td>\n",
       "      <td>female</td>\n",
       "      <td>47.0</td>\n",
       "      <td>1</td>\n",
       "      <td>0</td>\n",
       "      <td>363272</td>\n",
       "      <td>7.0000</td>\n",
       "      <td>S</td>\n",
       "    </tr>\n",
       "    <tr>\n",
       "      <th>2</th>\n",
       "      <td>894</td>\n",
       "      <td>2</td>\n",
       "      <td>Myles, Mr. Thomas Francis</td>\n",
       "      <td>male</td>\n",
       "      <td>62.0</td>\n",
       "      <td>0</td>\n",
       "      <td>0</td>\n",
       "      <td>240276</td>\n",
       "      <td>9.6875</td>\n",
       "      <td>Q</td>\n",
       "    </tr>\n",
       "    <tr>\n",
       "      <th>3</th>\n",
       "      <td>895</td>\n",
       "      <td>3</td>\n",
       "      <td>Wirz, Mr. Albert</td>\n",
       "      <td>male</td>\n",
       "      <td>27.0</td>\n",
       "      <td>0</td>\n",
       "      <td>0</td>\n",
       "      <td>315154</td>\n",
       "      <td>8.6625</td>\n",
       "      <td>S</td>\n",
       "    </tr>\n",
       "    <tr>\n",
       "      <th>4</th>\n",
       "      <td>896</td>\n",
       "      <td>3</td>\n",
       "      <td>Hirvonen, Mrs. Alexander (Helga E Lindqvist)</td>\n",
       "      <td>female</td>\n",
       "      <td>22.0</td>\n",
       "      <td>1</td>\n",
       "      <td>1</td>\n",
       "      <td>3101298</td>\n",
       "      <td>12.2875</td>\n",
       "      <td>S</td>\n",
       "    </tr>\n",
       "  </tbody>\n",
       "</table>\n",
       "</div>"
      ],
      "text/plain": [
       "   PassengerId  Pclass                                          Name     Sex  \\\n",
       "0          892       3                              Kelly, Mr. James    male   \n",
       "1          893       3              Wilkes, Mrs. James (Ellen Needs)  female   \n",
       "2          894       2                     Myles, Mr. Thomas Francis    male   \n",
       "3          895       3                              Wirz, Mr. Albert    male   \n",
       "4          896       3  Hirvonen, Mrs. Alexander (Helga E Lindqvist)  female   \n",
       "\n",
       "    Age  SibSp  Parch   Ticket     Fare Embarked  \n",
       "0  34.5      0      0   330911   7.8292        Q  \n",
       "1  47.0      1      0   363272   7.0000        S  \n",
       "2  62.0      0      0   240276   9.6875        Q  \n",
       "3  27.0      0      0   315154   8.6625        S  \n",
       "4  22.0      1      1  3101298  12.2875        S  "
      ]
     },
     "execution_count": 13,
     "metadata": {},
     "output_type": "execute_result"
    }
   ],
   "source": [
    "test_data.head()"
   ]
  },
  {
   "cell_type": "code",
   "execution_count": 14,
   "id": "b9e21191",
   "metadata": {},
   "outputs": [],
   "source": [
    "train_data['TravelAlone']=np.where((train_data[\"SibSp\"]+train_data[\"Parch\"])>0, 0, 1)\n",
    "train_data.drop('SibSp', axis=1, inplace=True)\n",
    "train_data.drop('Parch', axis=1, inplace=True)"
   ]
  },
  {
   "cell_type": "code",
   "execution_count": 15,
   "id": "906623ba",
   "metadata": {},
   "outputs": [],
   "source": [
    "training=pd.get_dummies(train_data, columns=[\"Pclass\",\"Embarked\",\"Sex\"]) #get dummies converts dataset to one hot encoding\n",
    "training.drop('Sex_female', axis=1, inplace=True)\n",
    "training.drop('PassengerId', axis=1, inplace=True)\n",
    "training.drop('Name', axis=1, inplace=True)\n",
    "training.drop('Ticket', axis=1, inplace=True)\n",
    "\n",
    "final_train = training"
   ]
  },
  {
   "cell_type": "code",
   "execution_count": 16,
   "id": "6204bf31",
   "metadata": {},
   "outputs": [],
   "source": [
    "test_data['TravelAlone']=np.where((test_data[\"SibSp\"]+test_data[\"Parch\"])>0, 0, 1)\n",
    "\n",
    "test_data.drop('SibSp', axis=1, inplace=True)\n",
    "test_data.drop('Parch', axis=1, inplace=True)\n",
    "\n",
    "testing = pd.get_dummies(test_data, columns=[\"Pclass\",\"Embarked\",\"Sex\"])\n",
    "testing.drop('Sex_female', axis=1, inplace=True)\n",
    "testing.drop('PassengerId', axis=1, inplace=True)\n",
    "testing.drop('Name', axis=1, inplace=True)\n",
    "testing.drop('Ticket', axis=1, inplace=True)\n",
    "\n",
    "final_test = testing"
   ]
  },
  {
   "cell_type": "code",
   "execution_count": 17,
   "id": "1d25a2df",
   "metadata": {},
   "outputs": [
    {
     "data": {
      "text/html": [
       "<div>\n",
       "<style scoped>\n",
       "    .dataframe tbody tr th:only-of-type {\n",
       "        vertical-align: middle;\n",
       "    }\n",
       "\n",
       "    .dataframe tbody tr th {\n",
       "        vertical-align: top;\n",
       "    }\n",
       "\n",
       "    .dataframe thead th {\n",
       "        text-align: right;\n",
       "    }\n",
       "</style>\n",
       "<table border=\"1\" class=\"dataframe\">\n",
       "  <thead>\n",
       "    <tr style=\"text-align: right;\">\n",
       "      <th></th>\n",
       "      <th>Survived</th>\n",
       "      <th>Age</th>\n",
       "      <th>Fare</th>\n",
       "      <th>TravelAlone</th>\n",
       "      <th>Pclass_1</th>\n",
       "      <th>Pclass_2</th>\n",
       "      <th>Pclass_3</th>\n",
       "      <th>Embarked_C</th>\n",
       "      <th>Embarked_Q</th>\n",
       "      <th>Embarked_S</th>\n",
       "      <th>Sex_male</th>\n",
       "    </tr>\n",
       "  </thead>\n",
       "  <tbody>\n",
       "    <tr>\n",
       "      <th>0</th>\n",
       "      <td>0</td>\n",
       "      <td>22.0</td>\n",
       "      <td>7.2500</td>\n",
       "      <td>0</td>\n",
       "      <td>0</td>\n",
       "      <td>0</td>\n",
       "      <td>1</td>\n",
       "      <td>0</td>\n",
       "      <td>0</td>\n",
       "      <td>1</td>\n",
       "      <td>1</td>\n",
       "    </tr>\n",
       "    <tr>\n",
       "      <th>1</th>\n",
       "      <td>1</td>\n",
       "      <td>38.0</td>\n",
       "      <td>71.2833</td>\n",
       "      <td>0</td>\n",
       "      <td>1</td>\n",
       "      <td>0</td>\n",
       "      <td>0</td>\n",
       "      <td>1</td>\n",
       "      <td>0</td>\n",
       "      <td>0</td>\n",
       "      <td>0</td>\n",
       "    </tr>\n",
       "    <tr>\n",
       "      <th>2</th>\n",
       "      <td>1</td>\n",
       "      <td>26.0</td>\n",
       "      <td>7.9250</td>\n",
       "      <td>1</td>\n",
       "      <td>0</td>\n",
       "      <td>0</td>\n",
       "      <td>1</td>\n",
       "      <td>0</td>\n",
       "      <td>0</td>\n",
       "      <td>1</td>\n",
       "      <td>0</td>\n",
       "    </tr>\n",
       "    <tr>\n",
       "      <th>3</th>\n",
       "      <td>1</td>\n",
       "      <td>35.0</td>\n",
       "      <td>53.1000</td>\n",
       "      <td>0</td>\n",
       "      <td>1</td>\n",
       "      <td>0</td>\n",
       "      <td>0</td>\n",
       "      <td>0</td>\n",
       "      <td>0</td>\n",
       "      <td>1</td>\n",
       "      <td>0</td>\n",
       "    </tr>\n",
       "    <tr>\n",
       "      <th>4</th>\n",
       "      <td>0</td>\n",
       "      <td>35.0</td>\n",
       "      <td>8.0500</td>\n",
       "      <td>1</td>\n",
       "      <td>0</td>\n",
       "      <td>0</td>\n",
       "      <td>1</td>\n",
       "      <td>0</td>\n",
       "      <td>0</td>\n",
       "      <td>1</td>\n",
       "      <td>1</td>\n",
       "    </tr>\n",
       "  </tbody>\n",
       "</table>\n",
       "</div>"
      ],
      "text/plain": [
       "   Survived   Age     Fare  TravelAlone  Pclass_1  Pclass_2  Pclass_3  \\\n",
       "0         0  22.0   7.2500            0         0         0         1   \n",
       "1         1  38.0  71.2833            0         1         0         0   \n",
       "2         1  26.0   7.9250            1         0         0         1   \n",
       "3         1  35.0  53.1000            0         1         0         0   \n",
       "4         0  35.0   8.0500            1         0         0         1   \n",
       "\n",
       "   Embarked_C  Embarked_Q  Embarked_S  Sex_male  \n",
       "0           0           0           1         1  \n",
       "1           1           0           0         0  \n",
       "2           0           0           1         0  \n",
       "3           0           0           1         0  \n",
       "4           0           0           1         1  "
      ]
     },
     "execution_count": 17,
     "metadata": {},
     "output_type": "execute_result"
    }
   ],
   "source": [
    "final_train.head()"
   ]
  },
  {
   "cell_type": "code",
   "execution_count": 18,
   "id": "7bb4b301",
   "metadata": {},
   "outputs": [],
   "source": [
    "cols = [\"Age\",\"Fare\",\"TravelAlone\",\"Pclass_1\",\"Pclass_2\",\"Embarked_C\",\"Embarked_S\",\"Sex_male\"] \n",
    "X_train = final_train[cols]\n",
    "y_train = final_train['Survived']\n",
    "X_test = final_test[cols]"
   ]
  },
  {
   "cell_type": "markdown",
   "id": "09424c09",
   "metadata": {},
   "source": [
    "# SVC"
   ]
  },
  {
   "cell_type": "code",
   "execution_count": 20,
   "id": "325fd7d6",
   "metadata": {},
   "outputs": [
    {
     "data": {
      "text/plain": [
       "SVC(C=1)"
      ]
     },
     "execution_count": 20,
     "metadata": {},
     "output_type": "execute_result"
    }
   ],
   "source": [
    "from sklearn.svm import SVC\n",
    "model = SVC(C=1, kernel='rbf')\n",
    "model.fit(X_train,y_train)"
   ]
  },
  {
   "cell_type": "code",
   "execution_count": 21,
   "id": "0d3aaa86",
   "metadata": {},
   "outputs": [],
   "source": [
    "predictions = model.predict(X_test)"
   ]
  },
  {
   "cell_type": "code",
   "execution_count": 22,
   "id": "27777d57",
   "metadata": {},
   "outputs": [
    {
     "name": "stdout",
     "output_type": "stream",
     "text": [
      "[0 0 0 0 0 0 0 0 0 0 0 0 1 0 1 0 0 0 0 0 1 0 0 1 1 0 1 0 0 0 0 0 0 0 1 0 0\n",
      " 0 0 1 0 0 0 0 0 0 0 0 1 0 1 0 0 1 0 0 0 0 0 1 0 0 0 0 1 0 0 0 0 1 0 0 0 0\n",
      " 1 1 0 0 0 0 0 1 0 0 0 0 0 0 0 0 0 0 1 0 0 0 1 0 0 0 1 0 0 0 0 0 0 0 0 0 0\n",
      " 0 0 0 1 0 0 0 1 0 0 0 1 0 0 0 0 0 0 0 0 0 0 0 0 0 0 0 0 0 0 1 1 0 0 0 0 0\n",
      " 0 0 1 0 0 0 0 0 1 0 0 0 0 0 0 0 0 0 0 0 0 0 0 0 0 0 0 0 0 0 0 1 0 1 1 0 1\n",
      " 0 0 0 1 0 0 0 0 0 0 0 1 0 0 0 0 0 1 0 0 0 0 0 0 0 0 0 1 0 0 0 0 1 1 0 0 0\n",
      " 0 0 0 0 0 0 0 0 1 0 0 0 1 0 1 0 0 1 0 0 1 0 0 0 0 0 0 0 0 0 1 0 0 0 0 0 0\n",
      " 0 0 0 0 0 0 0 0 0 0 0 1 0 1 0 0 0 0 0 0 0 0 0 0 0 0 0 0 1 0 0 0 0 0 1 0 0\n",
      " 1 0 0 0 0 0 0 0 0 0 1 0 1 0 0 0 0 0 1 0 1 0 0 0 0 0 0 0 1 0 0 1 0 0 0 0 0\n",
      " 0 0 0 0 0 0 0 0 0 1 1 0 0 0 0 0 0 1 0 1 1 0 0 0 0 0 0 1 0 0 0 1 1 0 0 1 0\n",
      " 0 1 0 0 1 1 0 0 0 0 0 0 0 0 0 1 0 0 0 0 1 0 0 0 0 1 0 1 0 0 1 0 1 0 0 0 0\n",
      " 1 0 0 0 1 0 0 1 0 0 0]\n"
     ]
    }
   ],
   "source": [
    "print(predictions)"
   ]
  },
  {
   "cell_type": "code",
   "execution_count": 23,
   "id": "852d26da",
   "metadata": {},
   "outputs": [],
   "source": [
    "submission = pd.DataFrame({\"PassengerId\": test[\"PassengerId\"],\n",
    "                            \"Survived\": predictions})\n",
    "submission.to_csv('submission.csv', index=False)"
   ]
  },
  {
   "cell_type": "code",
   "execution_count": 24,
   "id": "a71f4c54",
   "metadata": {},
   "outputs": [],
   "source": [
    "prediction_df = pd.read_csv('submission.csv')"
   ]
  },
  {
   "cell_type": "markdown",
   "id": "efa0d582",
   "metadata": {},
   "source": [
    "GRID SEARCH"
   ]
  },
  {
   "cell_type": "code",
   "execution_count": 25,
   "id": "1eef8412",
   "metadata": {},
   "outputs": [],
   "source": [
    "param_grid = {'C': [0.1,1, 10, 100, 1000], 'gamma': [1,0.1,0.01,0.001,0.0001], 'kernel': ['rbf']} "
   ]
  },
  {
   "cell_type": "code",
   "execution_count": 23,
   "id": "9b26e4a8",
   "metadata": {},
   "outputs": [],
   "source": [
    "from sklearn.model_selection import GridSearchCV"
   ]
  },
  {
   "cell_type": "code",
   "execution_count": 27,
   "id": "cd4239c5",
   "metadata": {},
   "outputs": [],
   "source": [
    "grid = GridSearchCV(SVC(),param_grid,refit=True,verbose=3)"
   ]
  },
  {
   "cell_type": "code",
   "execution_count": 28,
   "id": "9154686d",
   "metadata": {},
   "outputs": [
    {
     "name": "stdout",
     "output_type": "stream",
     "text": [
      "Fitting 5 folds for each of 25 candidates, totalling 125 fits\n",
      "[CV 1/5] END ........C=0.1, gamma=1, kernel=rbf;, score=0.615 total time=   0.0s\n",
      "[CV 2/5] END ........C=0.1, gamma=1, kernel=rbf;, score=0.618 total time=   0.0s\n",
      "[CV 3/5] END ........C=0.1, gamma=1, kernel=rbf;, score=0.618 total time=   0.0s\n",
      "[CV 4/5] END ........C=0.1, gamma=1, kernel=rbf;, score=0.618 total time=   0.0s\n",
      "[CV 5/5] END ........C=0.1, gamma=1, kernel=rbf;, score=0.612 total time=   0.0s\n",
      "[CV 1/5] END ......C=0.1, gamma=0.1, kernel=rbf;, score=0.615 total time=   0.0s\n",
      "[CV 2/5] END ......C=0.1, gamma=0.1, kernel=rbf;, score=0.618 total time=   0.0s\n",
      "[CV 3/5] END ......C=0.1, gamma=0.1, kernel=rbf;, score=0.618 total time=   0.0s\n",
      "[CV 4/5] END ......C=0.1, gamma=0.1, kernel=rbf;, score=0.618 total time=   0.0s\n",
      "[CV 5/5] END ......C=0.1, gamma=0.1, kernel=rbf;, score=0.612 total time=   0.0s\n",
      "[CV 1/5] END .....C=0.1, gamma=0.01, kernel=rbf;, score=0.587 total time=   0.0s\n",
      "[CV 2/5] END .....C=0.1, gamma=0.01, kernel=rbf;, score=0.652 total time=   0.0s\n",
      "[CV 3/5] END .....C=0.1, gamma=0.01, kernel=rbf;, score=0.685 total time=   0.0s\n",
      "[CV 4/5] END .....C=0.1, gamma=0.01, kernel=rbf;, score=0.629 total time=   0.0s\n",
      "[CV 5/5] END .....C=0.1, gamma=0.01, kernel=rbf;, score=0.669 total time=   0.0s\n",
      "[CV 1/5] END ....C=0.1, gamma=0.001, kernel=rbf;, score=0.559 total time=   0.0s\n",
      "[CV 2/5] END ....C=0.1, gamma=0.001, kernel=rbf;, score=0.713 total time=   0.0s\n",
      "[CV 3/5] END ....C=0.1, gamma=0.001, kernel=rbf;, score=0.685 total time=   0.0s\n",
      "[CV 4/5] END ....C=0.1, gamma=0.001, kernel=rbf;, score=0.685 total time=   0.0s\n",
      "[CV 5/5] END ....C=0.1, gamma=0.001, kernel=rbf;, score=0.691 total time=   0.0s\n",
      "[CV 1/5] END ...C=0.1, gamma=0.0001, kernel=rbf;, score=0.598 total time=   0.0s\n",
      "[CV 2/5] END ...C=0.1, gamma=0.0001, kernel=rbf;, score=0.708 total time=   0.0s\n",
      "[CV 3/5] END ...C=0.1, gamma=0.0001, kernel=rbf;, score=0.657 total time=   0.0s\n",
      "[CV 4/5] END ...C=0.1, gamma=0.0001, kernel=rbf;, score=0.669 total time=   0.0s\n",
      "[CV 5/5] END ...C=0.1, gamma=0.0001, kernel=rbf;, score=0.669 total time=   0.0s\n",
      "[CV 1/5] END ..........C=1, gamma=1, kernel=rbf;, score=0.682 total time=   0.0s\n",
      "[CV 2/5] END ..........C=1, gamma=1, kernel=rbf;, score=0.646 total time=   0.0s\n",
      "[CV 3/5] END ..........C=1, gamma=1, kernel=rbf;, score=0.697 total time=   0.0s\n",
      "[CV 4/5] END ..........C=1, gamma=1, kernel=rbf;, score=0.685 total time=   0.0s\n",
      "[CV 5/5] END ..........C=1, gamma=1, kernel=rbf;, score=0.590 total time=   0.0s\n",
      "[CV 1/5] END ........C=1, gamma=0.1, kernel=rbf;, score=0.603 total time=   0.0s\n",
      "[CV 2/5] END ........C=1, gamma=0.1, kernel=rbf;, score=0.691 total time=   0.0s\n",
      "[CV 3/5] END ........C=1, gamma=0.1, kernel=rbf;, score=0.708 total time=   0.0s\n",
      "[CV 4/5] END ........C=1, gamma=0.1, kernel=rbf;, score=0.753 total time=   0.0s\n",
      "[CV 5/5] END ........C=1, gamma=0.1, kernel=rbf;, score=0.742 total time=   0.0s\n",
      "[CV 1/5] END .......C=1, gamma=0.01, kernel=rbf;, score=0.603 total time=   0.0s\n",
      "[CV 2/5] END .......C=1, gamma=0.01, kernel=rbf;, score=0.697 total time=   0.0s\n",
      "[CV 3/5] END .......C=1, gamma=0.01, kernel=rbf;, score=0.708 total time=   0.0s\n",
      "[CV 4/5] END .......C=1, gamma=0.01, kernel=rbf;, score=0.708 total time=   0.0s\n",
      "[CV 5/5] END .......C=1, gamma=0.01, kernel=rbf;, score=0.725 total time=   0.0s\n",
      "[CV 1/5] END ......C=1, gamma=0.001, kernel=rbf;, score=0.570 total time=   0.0s\n",
      "[CV 2/5] END ......C=1, gamma=0.001, kernel=rbf;, score=0.719 total time=   0.0s\n",
      "[CV 3/5] END ......C=1, gamma=0.001, kernel=rbf;, score=0.713 total time=   0.0s\n",
      "[CV 4/5] END ......C=1, gamma=0.001, kernel=rbf;, score=0.697 total time=   0.0s\n",
      "[CV 5/5] END ......C=1, gamma=0.001, kernel=rbf;, score=0.725 total time=   0.0s\n",
      "[CV 1/5] END .....C=1, gamma=0.0001, kernel=rbf;, score=0.570 total time=   0.0s\n",
      "[CV 2/5] END .....C=1, gamma=0.0001, kernel=rbf;, score=0.713 total time=   0.0s\n",
      "[CV 3/5] END .....C=1, gamma=0.0001, kernel=rbf;, score=0.663 total time=   0.0s\n",
      "[CV 4/5] END .....C=1, gamma=0.0001, kernel=rbf;, score=0.685 total time=   0.0s\n",
      "[CV 5/5] END .....C=1, gamma=0.0001, kernel=rbf;, score=0.674 total time=   0.0s\n",
      "[CV 1/5] END .........C=10, gamma=1, kernel=rbf;, score=0.670 total time=   0.0s\n",
      "[CV 2/5] END .........C=10, gamma=1, kernel=rbf;, score=0.624 total time=   0.0s\n",
      "[CV 3/5] END .........C=10, gamma=1, kernel=rbf;, score=0.680 total time=   0.0s\n",
      "[CV 4/5] END .........C=10, gamma=1, kernel=rbf;, score=0.685 total time=   0.0s\n",
      "[CV 5/5] END .........C=10, gamma=1, kernel=rbf;, score=0.629 total time=   0.0s\n",
      "[CV 1/5] END .......C=10, gamma=0.1, kernel=rbf;, score=0.665 total time=   0.0s\n",
      "[CV 2/5] END .......C=10, gamma=0.1, kernel=rbf;, score=0.736 total time=   0.0s\n",
      "[CV 3/5] END .......C=10, gamma=0.1, kernel=rbf;, score=0.736 total time=   0.0s\n",
      "[CV 4/5] END .......C=10, gamma=0.1, kernel=rbf;, score=0.730 total time=   0.0s\n",
      "[CV 5/5] END .......C=10, gamma=0.1, kernel=rbf;, score=0.725 total time=   0.0s\n",
      "[CV 1/5] END ......C=10, gamma=0.01, kernel=rbf;, score=0.721 total time=   0.0s\n",
      "[CV 2/5] END ......C=10, gamma=0.01, kernel=rbf;, score=0.764 total time=   0.0s\n",
      "[CV 3/5] END ......C=10, gamma=0.01, kernel=rbf;, score=0.770 total time=   0.0s\n",
      "[CV 4/5] END ......C=10, gamma=0.01, kernel=rbf;, score=0.775 total time=   0.0s\n",
      "[CV 5/5] END ......C=10, gamma=0.01, kernel=rbf;, score=0.775 total time=   0.0s\n",
      "[CV 1/5] END .....C=10, gamma=0.001, kernel=rbf;, score=0.592 total time=   0.0s\n",
      "[CV 2/5] END .....C=10, gamma=0.001, kernel=rbf;, score=0.736 total time=   0.0s\n",
      "[CV 3/5] END .....C=10, gamma=0.001, kernel=rbf;, score=0.747 total time=   0.0s\n",
      "[CV 4/5] END .....C=10, gamma=0.001, kernel=rbf;, score=0.747 total time=   0.0s\n",
      "[CV 5/5] END .....C=10, gamma=0.001, kernel=rbf;, score=0.747 total time=   0.0s\n",
      "[CV 1/5] END ....C=10, gamma=0.0001, kernel=rbf;, score=0.581 total time=   0.0s\n",
      "[CV 2/5] END ....C=10, gamma=0.0001, kernel=rbf;, score=0.713 total time=   0.0s\n",
      "[CV 3/5] END ....C=10, gamma=0.0001, kernel=rbf;, score=0.680 total time=   0.0s\n",
      "[CV 4/5] END ....C=10, gamma=0.0001, kernel=rbf;, score=0.685 total time=   0.0s\n",
      "[CV 5/5] END ....C=10, gamma=0.0001, kernel=rbf;, score=0.685 total time=   0.0s\n",
      "[CV 1/5] END ........C=100, gamma=1, kernel=rbf;, score=0.665 total time=   0.0s\n",
      "[CV 2/5] END ........C=100, gamma=1, kernel=rbf;, score=0.618 total time=   0.0s\n",
      "[CV 3/5] END ........C=100, gamma=1, kernel=rbf;, score=0.685 total time=   0.0s\n",
      "[CV 4/5] END ........C=100, gamma=1, kernel=rbf;, score=0.674 total time=   0.0s\n",
      "[CV 5/5] END ........C=100, gamma=1, kernel=rbf;, score=0.612 total time=   0.0s\n",
      "[CV 1/5] END ......C=100, gamma=0.1, kernel=rbf;, score=0.659 total time=   0.0s\n",
      "[CV 2/5] END ......C=100, gamma=0.1, kernel=rbf;, score=0.680 total time=   0.0s\n",
      "[CV 3/5] END ......C=100, gamma=0.1, kernel=rbf;, score=0.758 total time=   0.0s\n",
      "[CV 4/5] END ......C=100, gamma=0.1, kernel=rbf;, score=0.730 total time=   0.0s\n",
      "[CV 5/5] END ......C=100, gamma=0.1, kernel=rbf;, score=0.725 total time=   0.0s\n",
      "[CV 1/5] END .....C=100, gamma=0.01, kernel=rbf;, score=0.715 total time=   0.0s\n",
      "[CV 2/5] END .....C=100, gamma=0.01, kernel=rbf;, score=0.753 total time=   0.0s\n",
      "[CV 3/5] END .....C=100, gamma=0.01, kernel=rbf;, score=0.775 total time=   0.0s\n",
      "[CV 4/5] END .....C=100, gamma=0.01, kernel=rbf;, score=0.770 total time=   0.0s\n",
      "[CV 5/5] END .....C=100, gamma=0.01, kernel=rbf;, score=0.770 total time=   0.0s\n",
      "[CV 1/5] END ....C=100, gamma=0.001, kernel=rbf;, score=0.754 total time=   0.0s\n",
      "[CV 2/5] END ....C=100, gamma=0.001, kernel=rbf;, score=0.798 total time=   0.0s\n",
      "[CV 3/5] END ....C=100, gamma=0.001, kernel=rbf;, score=0.787 total time=   0.0s\n",
      "[CV 4/5] END ....C=100, gamma=0.001, kernel=rbf;, score=0.758 total time=   0.0s\n",
      "[CV 5/5] END ....C=100, gamma=0.001, kernel=rbf;, score=0.815 total time=   0.0s\n",
      "[CV 1/5] END ...C=100, gamma=0.0001, kernel=rbf;, score=0.721 total time=   0.0s\n",
      "[CV 2/5] END ...C=100, gamma=0.0001, kernel=rbf;, score=0.803 total time=   0.0s\n",
      "[CV 3/5] END ...C=100, gamma=0.0001, kernel=rbf;, score=0.781 total time=   0.0s\n",
      "[CV 4/5] END ...C=100, gamma=0.0001, kernel=rbf;, score=0.736 total time=   0.0s\n",
      "[CV 5/5] END ...C=100, gamma=0.0001, kernel=rbf;, score=0.798 total time=   0.0s\n",
      "[CV 1/5] END .......C=1000, gamma=1, kernel=rbf;, score=0.665 total time=   0.0s\n",
      "[CV 2/5] END .......C=1000, gamma=1, kernel=rbf;, score=0.618 total time=   0.0s\n",
      "[CV 3/5] END .......C=1000, gamma=1, kernel=rbf;, score=0.680 total time=   0.0s\n"
     ]
    },
    {
     "name": "stdout",
     "output_type": "stream",
     "text": [
      "[CV 4/5] END .......C=1000, gamma=1, kernel=rbf;, score=0.663 total time=   0.0s\n",
      "[CV 5/5] END .......C=1000, gamma=1, kernel=rbf;, score=0.601 total time=   0.0s\n",
      "[CV 1/5] END .....C=1000, gamma=0.1, kernel=rbf;, score=0.648 total time=   0.0s\n",
      "[CV 2/5] END .....C=1000, gamma=0.1, kernel=rbf;, score=0.657 total time=   0.0s\n",
      "[CV 3/5] END .....C=1000, gamma=0.1, kernel=rbf;, score=0.747 total time=   0.0s\n",
      "[CV 4/5] END .....C=1000, gamma=0.1, kernel=rbf;, score=0.742 total time=   0.0s\n",
      "[CV 5/5] END .....C=1000, gamma=0.1, kernel=rbf;, score=0.674 total time=   0.0s\n",
      "[CV 1/5] END ....C=1000, gamma=0.01, kernel=rbf;, score=0.693 total time=   0.1s\n",
      "[CV 2/5] END ....C=1000, gamma=0.01, kernel=rbf;, score=0.736 total time=   0.0s\n",
      "[CV 3/5] END ....C=1000, gamma=0.01, kernel=rbf;, score=0.764 total time=   0.1s\n",
      "[CV 4/5] END ....C=1000, gamma=0.01, kernel=rbf;, score=0.764 total time=   0.0s\n",
      "[CV 5/5] END ....C=1000, gamma=0.01, kernel=rbf;, score=0.758 total time=   0.1s\n",
      "[CV 1/5] END ...C=1000, gamma=0.001, kernel=rbf;, score=0.777 total time=   0.1s\n",
      "[CV 2/5] END ...C=1000, gamma=0.001, kernel=rbf;, score=0.775 total time=   0.0s\n",
      "[CV 3/5] END ...C=1000, gamma=0.001, kernel=rbf;, score=0.787 total time=   0.0s\n",
      "[CV 4/5] END ...C=1000, gamma=0.001, kernel=rbf;, score=0.781 total time=   0.1s\n",
      "[CV 5/5] END ...C=1000, gamma=0.001, kernel=rbf;, score=0.820 total time=   0.1s\n",
      "[CV 1/5] END ..C=1000, gamma=0.0001, kernel=rbf;, score=0.793 total time=   0.0s\n",
      "[CV 2/5] END ..C=1000, gamma=0.0001, kernel=rbf;, score=0.803 total time=   0.0s\n",
      "[CV 3/5] END ..C=1000, gamma=0.0001, kernel=rbf;, score=0.758 total time=   0.0s\n",
      "[CV 4/5] END ..C=1000, gamma=0.0001, kernel=rbf;, score=0.758 total time=   0.0s\n",
      "[CV 5/5] END ..C=1000, gamma=0.0001, kernel=rbf;, score=0.798 total time=   0.0s\n"
     ]
    },
    {
     "data": {
      "text/plain": [
       "GridSearchCV(estimator=SVC(),\n",
       "             param_grid={'C': [0.1, 1, 10, 100, 1000],\n",
       "                         'gamma': [1, 0.1, 0.01, 0.001, 0.0001],\n",
       "                         'kernel': ['rbf']},\n",
       "             verbose=3)"
      ]
     },
     "execution_count": 28,
     "metadata": {},
     "output_type": "execute_result"
    }
   ],
   "source": [
    "grid.fit(X_train,y_train)"
   ]
  },
  {
   "cell_type": "code",
   "execution_count": 29,
   "id": "5874ca2e",
   "metadata": {},
   "outputs": [
    {
     "data": {
      "text/plain": [
       "{'C': 1000, 'gamma': 0.001, 'kernel': 'rbf'}"
      ]
     },
     "execution_count": 29,
     "metadata": {},
     "output_type": "execute_result"
    }
   ],
   "source": [
    "grid.best_params_"
   ]
  },
  {
   "cell_type": "code",
   "execution_count": 30,
   "id": "9427ade8",
   "metadata": {},
   "outputs": [
    {
     "data": {
      "text/plain": [
       "SVC(C=1000, gamma=0.001)"
      ]
     },
     "execution_count": 30,
     "metadata": {},
     "output_type": "execute_result"
    }
   ],
   "source": [
    "grid.best_estimator_"
   ]
  },
  {
   "cell_type": "code",
   "execution_count": 31,
   "id": "290c0a02",
   "metadata": {},
   "outputs": [],
   "source": [
    "grid_predictions = grid.predict(X_test)"
   ]
  },
  {
   "cell_type": "code",
   "execution_count": 32,
   "id": "9bcb2fcf",
   "metadata": {},
   "outputs": [],
   "source": [
    "submission = pd.DataFrame({\"PassengerId\": test[\"PassengerId\"],\n",
    "                            \"Survived\": grid_predictions})\n",
    "submission.to_csv('submission.csv', index=False)"
   ]
  },
  {
   "cell_type": "code",
   "execution_count": 33,
   "id": "45ad52c6",
   "metadata": {},
   "outputs": [],
   "source": [
    "prediction_df = pd.read_csv('submission.csv')"
   ]
  },
  {
   "cell_type": "markdown",
   "id": "009cd623",
   "metadata": {},
   "source": [
    "# LOGISTIC REGRESSION"
   ]
  },
  {
   "cell_type": "code",
   "execution_count": 34,
   "id": "2e7b59b5",
   "metadata": {},
   "outputs": [],
   "source": [
    "from sklearn.linear_model import LogisticRegression\n",
    "from sklearn.feature_selection import RFE"
   ]
  },
  {
   "cell_type": "code",
   "execution_count": 35,
   "id": "11a24562",
   "metadata": {},
   "outputs": [],
   "source": [
    "model1 = LogisticRegression()"
   ]
  },
  {
   "cell_type": "code",
   "execution_count": 37,
   "id": "8d87f8e7",
   "metadata": {},
   "outputs": [],
   "source": [
    "rfe = RFE(model, 8)\n",
    "rfe = rfe.fit(X_train, y_train)"
   ]
  },
  {
   "cell_type": "code",
   "execution_count": 39,
   "id": "19b33515",
   "metadata": {},
   "outputs": [
    {
     "name": "stderr",
     "output_type": "stream",
     "text": [
      "C:\\Users\\itsdi\\anaconda3\\lib\\site-packages\\sklearn\\linear_model\\_logistic.py:763: ConvergenceWarning: lbfgs failed to converge (status=1):\n",
      "STOP: TOTAL NO. of ITERATIONS REACHED LIMIT.\n",
      "\n",
      "Increase the number of iterations (max_iter) or scale the data as shown in:\n",
      "    https://scikit-learn.org/stable/modules/preprocessing.html\n",
      "Please also refer to the documentation for alternative solver options:\n",
      "    https://scikit-learn.org/stable/modules/linear_model.html#logistic-regression\n",
      "  n_iter_i = _check_optimize_result(\n",
      "C:\\Users\\itsdi\\anaconda3\\lib\\site-packages\\sklearn\\linear_model\\_logistic.py:763: ConvergenceWarning: lbfgs failed to converge (status=1):\n",
      "STOP: TOTAL NO. of ITERATIONS REACHED LIMIT.\n",
      "\n",
      "Increase the number of iterations (max_iter) or scale the data as shown in:\n",
      "    https://scikit-learn.org/stable/modules/preprocessing.html\n",
      "Please also refer to the documentation for alternative solver options:\n",
      "    https://scikit-learn.org/stable/modules/linear_model.html#logistic-regression\n",
      "  n_iter_i = _check_optimize_result(\n",
      "C:\\Users\\itsdi\\anaconda3\\lib\\site-packages\\sklearn\\linear_model\\_logistic.py:763: ConvergenceWarning: lbfgs failed to converge (status=1):\n",
      "STOP: TOTAL NO. of ITERATIONS REACHED LIMIT.\n",
      "\n",
      "Increase the number of iterations (max_iter) or scale the data as shown in:\n",
      "    https://scikit-learn.org/stable/modules/preprocessing.html\n",
      "Please also refer to the documentation for alternative solver options:\n",
      "    https://scikit-learn.org/stable/modules/linear_model.html#logistic-regression\n",
      "  n_iter_i = _check_optimize_result(\n",
      "C:\\Users\\itsdi\\anaconda3\\lib\\site-packages\\sklearn\\linear_model\\_logistic.py:763: ConvergenceWarning: lbfgs failed to converge (status=1):\n",
      "STOP: TOTAL NO. of ITERATIONS REACHED LIMIT.\n",
      "\n",
      "Increase the number of iterations (max_iter) or scale the data as shown in:\n",
      "    https://scikit-learn.org/stable/modules/preprocessing.html\n",
      "Please also refer to the documentation for alternative solver options:\n",
      "    https://scikit-learn.org/stable/modules/linear_model.html#logistic-regression\n",
      "  n_iter_i = _check_optimize_result(\n",
      "C:\\Users\\itsdi\\anaconda3\\lib\\site-packages\\sklearn\\linear_model\\_logistic.py:763: ConvergenceWarning: lbfgs failed to converge (status=1):\n",
      "STOP: TOTAL NO. of ITERATIONS REACHED LIMIT.\n",
      "\n",
      "Increase the number of iterations (max_iter) or scale the data as shown in:\n",
      "    https://scikit-learn.org/stable/modules/preprocessing.html\n",
      "Please also refer to the documentation for alternative solver options:\n",
      "    https://scikit-learn.org/stable/modules/linear_model.html#logistic-regression\n",
      "  n_iter_i = _check_optimize_result(\n",
      "C:\\Users\\itsdi\\anaconda3\\lib\\site-packages\\sklearn\\linear_model\\_logistic.py:763: ConvergenceWarning: lbfgs failed to converge (status=1):\n",
      "STOP: TOTAL NO. of ITERATIONS REACHED LIMIT.\n",
      "\n",
      "Increase the number of iterations (max_iter) or scale the data as shown in:\n",
      "    https://scikit-learn.org/stable/modules/preprocessing.html\n",
      "Please also refer to the documentation for alternative solver options:\n",
      "    https://scikit-learn.org/stable/modules/linear_model.html#logistic-regression\n",
      "  n_iter_i = _check_optimize_result(\n",
      "C:\\Users\\itsdi\\anaconda3\\lib\\site-packages\\sklearn\\linear_model\\_logistic.py:763: ConvergenceWarning: lbfgs failed to converge (status=1):\n",
      "STOP: TOTAL NO. of ITERATIONS REACHED LIMIT.\n",
      "\n",
      "Increase the number of iterations (max_iter) or scale the data as shown in:\n",
      "    https://scikit-learn.org/stable/modules/preprocessing.html\n",
      "Please also refer to the documentation for alternative solver options:\n",
      "    https://scikit-learn.org/stable/modules/linear_model.html#logistic-regression\n",
      "  n_iter_i = _check_optimize_result(\n",
      "C:\\Users\\itsdi\\anaconda3\\lib\\site-packages\\sklearn\\linear_model\\_logistic.py:763: ConvergenceWarning: lbfgs failed to converge (status=1):\n",
      "STOP: TOTAL NO. of ITERATIONS REACHED LIMIT.\n",
      "\n",
      "Increase the number of iterations (max_iter) or scale the data as shown in:\n",
      "    https://scikit-learn.org/stable/modules/preprocessing.html\n",
      "Please also refer to the documentation for alternative solver options:\n",
      "    https://scikit-learn.org/stable/modules/linear_model.html#logistic-regression\n",
      "  n_iter_i = _check_optimize_result(\n",
      "C:\\Users\\itsdi\\anaconda3\\lib\\site-packages\\sklearn\\linear_model\\_logistic.py:763: ConvergenceWarning: lbfgs failed to converge (status=1):\n",
      "STOP: TOTAL NO. of ITERATIONS REACHED LIMIT.\n",
      "\n",
      "Increase the number of iterations (max_iter) or scale the data as shown in:\n",
      "    https://scikit-learn.org/stable/modules/preprocessing.html\n",
      "Please also refer to the documentation for alternative solver options:\n",
      "    https://scikit-learn.org/stable/modules/linear_model.html#logistic-regression\n",
      "  n_iter_i = _check_optimize_result(\n",
      "C:\\Users\\itsdi\\anaconda3\\lib\\site-packages\\sklearn\\linear_model\\_logistic.py:763: ConvergenceWarning: lbfgs failed to converge (status=1):\n",
      "STOP: TOTAL NO. of ITERATIONS REACHED LIMIT.\n",
      "\n",
      "Increase the number of iterations (max_iter) or scale the data as shown in:\n",
      "    https://scikit-learn.org/stable/modules/preprocessing.html\n",
      "Please also refer to the documentation for alternative solver options:\n",
      "    https://scikit-learn.org/stable/modules/linear_model.html#logistic-regression\n",
      "  n_iter_i = _check_optimize_result(\n",
      "C:\\Users\\itsdi\\anaconda3\\lib\\site-packages\\sklearn\\linear_model\\_logistic.py:763: ConvergenceWarning: lbfgs failed to converge (status=1):\n",
      "STOP: TOTAL NO. of ITERATIONS REACHED LIMIT.\n",
      "\n",
      "Increase the number of iterations (max_iter) or scale the data as shown in:\n",
      "    https://scikit-learn.org/stable/modules/preprocessing.html\n",
      "Please also refer to the documentation for alternative solver options:\n",
      "    https://scikit-learn.org/stable/modules/linear_model.html#logistic-regression\n",
      "  n_iter_i = _check_optimize_result(\n"
     ]
    },
    {
     "data": {
      "text/plain": [
       "RFECV(cv=10, estimator=LogisticRegression(), scoring='accuracy')"
      ]
     },
     "execution_count": 39,
     "metadata": {},
     "output_type": "execute_result"
    }
   ],
   "source": [
    "from sklearn.feature_selection import RFECV\n",
    "rfecv = RFECV(estimator=LogisticRegression(), step=1, cv=10, scoring='accuracy')\n",
    "rfecv.fit(X_train, y_train)"
   ]
  },
  {
   "cell_type": "code",
   "execution_count": 40,
   "id": "824edf1d",
   "metadata": {},
   "outputs": [],
   "source": [
    "from sklearn.model_selection import train_test_split, cross_val_score\n",
    "from sklearn.metrics import accuracy_score, classification_report, precision_score, recall_score \n",
    "from sklearn.metrics import confusion_matrix, precision_recall_curve, roc_curve, auc, log_loss"
   ]
  },
  {
   "cell_type": "code",
   "execution_count": 41,
   "id": "d8d79149",
   "metadata": {},
   "outputs": [
    {
     "name": "stderr",
     "output_type": "stream",
     "text": [
      "C:\\Users\\itsdi\\anaconda3\\lib\\site-packages\\sklearn\\linear_model\\_logistic.py:763: ConvergenceWarning: lbfgs failed to converge (status=1):\n",
      "STOP: TOTAL NO. of ITERATIONS REACHED LIMIT.\n",
      "\n",
      "Increase the number of iterations (max_iter) or scale the data as shown in:\n",
      "    https://scikit-learn.org/stable/modules/preprocessing.html\n",
      "Please also refer to the documentation for alternative solver options:\n",
      "    https://scikit-learn.org/stable/modules/linear_model.html#logistic-regression\n",
      "  n_iter_i = _check_optimize_result(\n"
     ]
    }
   ],
   "source": [
    "logreg = LogisticRegression()\n",
    "logreg.fit(X_train, y_train)\n",
    "y_pred = logreg.predict(X_test)\n",
    "y_pred_proba = logreg.predict_proba(X_test)[:, 1]"
   ]
  },
  {
   "cell_type": "code",
   "execution_count": 42,
   "id": "fac4b531",
   "metadata": {},
   "outputs": [
    {
     "name": "stdout",
     "output_type": "stream",
     "text": [
      "[0 0 0 0 1 0 1 0 1 0 0 0 1 0 1 1 0 0 1 1 0 0 1 1 1 0 1 0 0 0 0 0 0 1 1 0 1\n",
      " 1 0 0 0 0 0 1 1 0 0 0 1 0 0 0 1 1 0 0 0 0 0 1 0 0 0 1 1 1 1 0 1 1 1 0 1 1\n",
      " 1 1 0 1 0 1 0 0 0 0 0 0 1 1 1 0 1 0 1 0 1 0 1 0 1 0 1 0 0 0 1 0 0 0 0 0 0\n",
      " 1 1 1 1 0 0 1 1 1 1 0 1 0 0 1 0 1 0 0 0 0 1 0 0 0 0 0 1 0 1 1 0 0 0 0 0 0\n",
      " 0 0 1 0 0 0 0 0 1 1 0 1 1 0 1 0 0 1 0 0 1 1 0 0 0 0 0 1 1 0 1 1 0 0 1 0 1\n",
      " 0 1 0 1 0 0 0 0 0 0 0 1 1 0 1 1 0 0 1 0 1 1 0 1 0 0 0 0 1 0 0 1 0 1 0 1 0\n",
      " 1 0 1 1 0 1 0 0 0 1 0 0 0 0 0 0 1 1 1 1 0 0 0 0 1 0 1 1 1 0 1 0 0 0 0 0 1\n",
      " 0 0 0 1 1 0 0 0 0 1 0 0 0 1 1 0 1 0 0 0 0 1 0 1 1 1 0 0 0 0 0 0 1 0 0 0 0\n",
      " 1 0 0 0 0 0 0 0 1 1 0 0 0 0 0 0 0 1 1 1 0 0 0 0 0 0 0 0 1 0 1 0 0 0 1 0 0\n",
      " 1 0 0 0 0 0 0 0 0 0 1 0 1 0 1 0 1 1 0 0 0 1 0 1 0 0 0 0 1 1 0 1 1 0 1 1 0\n",
      " 0 1 0 0 1 1 1 0 0 0 0 0 1 1 0 1 0 0 0 0 0 1 0 0 0 1 0 1 0 0 1 0 1 1 0 0 0\n",
      " 0 1 1 1 1 1 0 1 0 0 0]\n"
     ]
    }
   ],
   "source": [
    "print(y_pred)"
   ]
  },
  {
   "cell_type": "code",
   "execution_count": 43,
   "id": "17480697",
   "metadata": {},
   "outputs": [],
   "source": [
    "submission1 = pd.DataFrame({\"PassengerId\": test[\"PassengerId\"],\n",
    "                            \"Survived\": y_pred})\n",
    "submission1.to_csv('submission1.csv', index=False)"
   ]
  },
  {
   "cell_type": "markdown",
   "id": "43078a44",
   "metadata": {},
   "source": [
    "# KERAS CLASSIFIER"
   ]
  },
  {
   "cell_type": "code",
   "execution_count": 46,
   "id": "94f4528c",
   "metadata": {},
   "outputs": [
    {
     "name": "stdout",
     "output_type": "stream",
     "text": [
      "Epoch 1/100\n"
     ]
    },
    {
     "name": "stderr",
     "output_type": "stream",
     "text": [
      "C:\\Users\\itsdi\\AppData\\Local\\Temp/ipykernel_19420/504740650.py:12: DeprecationWarning: KerasClassifier is deprecated, use Sci-Keras (https://github.com/adriangb/scikeras) instead. See https://www.adriangb.com/scikeras/stable/migration.html for help migrating.\n",
      "  classifier = KerasClassifier(build_fn = build_classifier, epochs = 100)\n"
     ]
    },
    {
     "name": "stdout",
     "output_type": "stream",
     "text": [
      "19/19 [==============================] - 1s 2ms/step - loss: 0.6925 - accuracy: 0.6010\n",
      "Epoch 2/100\n",
      "19/19 [==============================] - 0s 2ms/step - loss: 0.6904 - accuracy: 0.6347\n",
      "Epoch 3/100\n",
      "19/19 [==============================] - 0s 2ms/step - loss: 0.6867 - accuracy: 0.6751\n",
      "Epoch 4/100\n",
      "19/19 [==============================] - 0s 2ms/step - loss: 0.6796 - accuracy: 0.6953\n",
      "Epoch 5/100\n",
      "19/19 [==============================] - 0s 2ms/step - loss: 0.6717 - accuracy: 0.7020\n",
      "Epoch 6/100\n",
      "19/19 [==============================] - 0s 1ms/step - loss: 0.6660 - accuracy: 0.7003\n",
      "Epoch 7/100\n",
      "19/19 [==============================] - 0s 2ms/step - loss: 0.6623 - accuracy: 0.7071\n",
      "Epoch 8/100\n",
      "19/19 [==============================] - 0s 1ms/step - loss: 0.6597 - accuracy: 0.7071\n",
      "Epoch 9/100\n",
      "19/19 [==============================] - 0s 2ms/step - loss: 0.6575 - accuracy: 0.7003\n",
      "Epoch 10/100\n",
      "19/19 [==============================] - 0s 2ms/step - loss: 0.6556 - accuracy: 0.7071\n",
      "Epoch 11/100\n",
      "19/19 [==============================] - 0s 2ms/step - loss: 0.6531 - accuracy: 0.7054\n",
      "Epoch 12/100\n",
      "19/19 [==============================] - 0s 3ms/step - loss: 0.6510 - accuracy: 0.6987\n",
      "Epoch 13/100\n",
      "19/19 [==============================] - 0s 2ms/step - loss: 0.6489 - accuracy: 0.6936\n",
      "Epoch 14/100\n",
      "19/19 [==============================] - 0s 2ms/step - loss: 0.6471 - accuracy: 0.6886\n",
      "Epoch 15/100\n",
      "19/19 [==============================] - 0s 2ms/step - loss: 0.6450 - accuracy: 0.6886\n",
      "Epoch 16/100\n",
      "19/19 [==============================] - 0s 2ms/step - loss: 0.6432 - accuracy: 0.6902\n",
      "Epoch 17/100\n",
      "19/19 [==============================] - 0s 1ms/step - loss: 0.6416 - accuracy: 0.6869\n",
      "Epoch 18/100\n",
      "19/19 [==============================] - 0s 2ms/step - loss: 0.6403 - accuracy: 0.6987\n",
      "Epoch 19/100\n",
      "19/19 [==============================] - 0s 2ms/step - loss: 0.6381 - accuracy: 0.6902\n",
      "Epoch 20/100\n",
      "19/19 [==============================] - 0s 2ms/step - loss: 0.6373 - accuracy: 0.6886\n",
      "Epoch 21/100\n",
      "19/19 [==============================] - 0s 2ms/step - loss: 0.6347 - accuracy: 0.6902\n",
      "Epoch 22/100\n",
      "19/19 [==============================] - 0s 2ms/step - loss: 0.6335 - accuracy: 0.6953\n",
      "Epoch 23/100\n",
      "19/19 [==============================] - 0s 3ms/step - loss: 0.6325 - accuracy: 0.6919\n",
      "Epoch 24/100\n",
      "19/19 [==============================] - 0s 1ms/step - loss: 0.6299 - accuracy: 0.6936\n",
      "Epoch 25/100\n",
      "19/19 [==============================] - 0s 2ms/step - loss: 0.6283 - accuracy: 0.6919\n",
      "Epoch 26/100\n",
      "19/19 [==============================] - 0s 1ms/step - loss: 0.6266 - accuracy: 0.6902\n",
      "Epoch 27/100\n",
      "19/19 [==============================] - 0s 1ms/step - loss: 0.6251 - accuracy: 0.6886\n",
      "Epoch 28/100\n",
      "19/19 [==============================] - 0s 1ms/step - loss: 0.6235 - accuracy: 0.6953\n",
      "Epoch 29/100\n",
      "19/19 [==============================] - 0s 1ms/step - loss: 0.6218 - accuracy: 0.6970\n",
      "Epoch 30/100\n",
      "19/19 [==============================] - 0s 894us/step - loss: 0.6193 - accuracy: 0.6987\n",
      "Epoch 31/100\n",
      "19/19 [==============================] - 0s 2ms/step - loss: 0.6178 - accuracy: 0.6987\n",
      "Epoch 32/100\n",
      "19/19 [==============================] - 0s 1ms/step - loss: 0.6169 - accuracy: 0.7071\n",
      "Epoch 33/100\n",
      "19/19 [==============================] - 0s 1ms/step - loss: 0.6142 - accuracy: 0.7037\n",
      "Epoch 34/100\n",
      "19/19 [==============================] - 0s 2ms/step - loss: 0.6125 - accuracy: 0.7071\n",
      "Epoch 35/100\n",
      "19/19 [==============================] - 0s 1ms/step - loss: 0.6102 - accuracy: 0.7020\n",
      "Epoch 36/100\n",
      "19/19 [==============================] - 0s 1ms/step - loss: 0.6078 - accuracy: 0.7037\n",
      "Epoch 37/100\n",
      "19/19 [==============================] - 0s 1ms/step - loss: 0.6046 - accuracy: 0.7189\n",
      "Epoch 38/100\n",
      "19/19 [==============================] - 0s 2ms/step - loss: 0.6025 - accuracy: 0.7121\n",
      "Epoch 39/100\n",
      "19/19 [==============================] - 0s 1ms/step - loss: 0.6012 - accuracy: 0.7256\n",
      "Epoch 40/100\n",
      "19/19 [==============================] - 0s 1ms/step - loss: 0.5959 - accuracy: 0.7239\n",
      "Epoch 41/100\n",
      "19/19 [==============================] - 0s 1ms/step - loss: 0.5924 - accuracy: 0.7374\n",
      "Epoch 42/100\n",
      "19/19 [==============================] - 0s 2ms/step - loss: 0.5911 - accuracy: 0.7374\n",
      "Epoch 43/100\n",
      "19/19 [==============================] - 0s 1ms/step - loss: 0.5864 - accuracy: 0.7441\n",
      "Epoch 44/100\n",
      "19/19 [==============================] - 0s 1ms/step - loss: 0.5835 - accuracy: 0.7475\n",
      "Epoch 45/100\n",
      "19/19 [==============================] - 0s 2ms/step - loss: 0.5797 - accuracy: 0.7424\n",
      "Epoch 46/100\n",
      "19/19 [==============================] - 0s 2ms/step - loss: 0.5756 - accuracy: 0.7542\n",
      "Epoch 47/100\n",
      "19/19 [==============================] - 0s 2ms/step - loss: 0.5730 - accuracy: 0.7593\n",
      "Epoch 48/100\n",
      "19/19 [==============================] - 0s 2ms/step - loss: 0.5687 - accuracy: 0.7609\n",
      "Epoch 49/100\n",
      "19/19 [==============================] - 0s 2ms/step - loss: 0.5650 - accuracy: 0.7660\n",
      "Epoch 50/100\n",
      "19/19 [==============================] - 0s 2ms/step - loss: 0.5612 - accuracy: 0.7593\n",
      "Epoch 51/100\n",
      "19/19 [==============================] - 0s 2ms/step - loss: 0.5572 - accuracy: 0.7710\n",
      "Epoch 52/100\n",
      "19/19 [==============================] - 0s 1ms/step - loss: 0.5519 - accuracy: 0.7710\n",
      "Epoch 53/100\n",
      "19/19 [==============================] - 0s 2ms/step - loss: 0.5474 - accuracy: 0.7727\n",
      "Epoch 54/100\n",
      "19/19 [==============================] - 0s 2ms/step - loss: 0.5428 - accuracy: 0.7761\n",
      "Epoch 55/100\n",
      "19/19 [==============================] - 0s 1ms/step - loss: 0.5407 - accuracy: 0.7694\n",
      "Epoch 56/100\n",
      "19/19 [==============================] - 0s 1ms/step - loss: 0.5358 - accuracy: 0.7694\n",
      "Epoch 57/100\n",
      "19/19 [==============================] - 0s 1ms/step - loss: 0.5391 - accuracy: 0.7694\n",
      "Epoch 58/100\n",
      "19/19 [==============================] - 0s 1ms/step - loss: 0.5334 - accuracy: 0.7879\n",
      "Epoch 59/100\n",
      "19/19 [==============================] - 0s 1ms/step - loss: 0.5247 - accuracy: 0.7660\n",
      "Epoch 60/100\n",
      "19/19 [==============================] - 0s 1ms/step - loss: 0.5196 - accuracy: 0.7778\n",
      "Epoch 61/100\n",
      "19/19 [==============================] - 0s 2ms/step - loss: 0.5167 - accuracy: 0.7677\n",
      "Epoch 62/100\n",
      "19/19 [==============================] - 0s 1ms/step - loss: 0.5150 - accuracy: 0.7626\n",
      "Epoch 63/100\n",
      "19/19 [==============================] - 0s 1ms/step - loss: 0.5123 - accuracy: 0.7694\n",
      "Epoch 64/100\n",
      "19/19 [==============================] - 0s 2ms/step - loss: 0.5112 - accuracy: 0.7727\n",
      "Epoch 65/100\n",
      "19/19 [==============================] - 0s 2ms/step - loss: 0.5065 - accuracy: 0.7744\n",
      "Epoch 66/100\n",
      "19/19 [==============================] - 0s 2ms/step - loss: 0.5031 - accuracy: 0.7710\n",
      "Epoch 67/100\n",
      "19/19 [==============================] - 0s 2ms/step - loss: 0.4980 - accuracy: 0.7761\n",
      "Epoch 68/100\n",
      "19/19 [==============================] - 0s 2ms/step - loss: 0.4949 - accuracy: 0.7778\n",
      "Epoch 69/100\n",
      "19/19 [==============================] - 0s 2ms/step - loss: 0.4951 - accuracy: 0.7778\n",
      "Epoch 70/100\n",
      "19/19 [==============================] - 0s 1ms/step - loss: 0.4898 - accuracy: 0.7778\n",
      "Epoch 71/100\n",
      "19/19 [==============================] - 0s 1ms/step - loss: 0.4883 - accuracy: 0.7811\n",
      "Epoch 72/100\n",
      "19/19 [==============================] - 0s 1ms/step - loss: 0.4858 - accuracy: 0.7778\n",
      "Epoch 73/100\n",
      "19/19 [==============================] - 0s 2ms/step - loss: 0.4833 - accuracy: 0.7912\n",
      "Epoch 74/100\n",
      "19/19 [==============================] - 0s 2ms/step - loss: 0.4813 - accuracy: 0.7744\n",
      "Epoch 75/100\n",
      "19/19 [==============================] - 0s 2ms/step - loss: 0.4819 - accuracy: 0.7744\n",
      "Epoch 76/100\n",
      "19/19 [==============================] - 0s 2ms/step - loss: 0.4776 - accuracy: 0.7828\n",
      "Epoch 77/100\n",
      "19/19 [==============================] - 0s 2ms/step - loss: 0.4739 - accuracy: 0.7828\n",
      "Epoch 78/100\n",
      "19/19 [==============================] - 0s 1ms/step - loss: 0.4761 - accuracy: 0.7778\n",
      "Epoch 79/100\n",
      "19/19 [==============================] - 0s 2ms/step - loss: 0.4709 - accuracy: 0.7811\n",
      "Epoch 80/100\n",
      "19/19 [==============================] - 0s 2ms/step - loss: 0.4697 - accuracy: 0.7761\n",
      "Epoch 81/100\n",
      "19/19 [==============================] - 0s 2ms/step - loss: 0.4675 - accuracy: 0.7845\n",
      "Epoch 82/100\n",
      "19/19 [==============================] - 0s 2ms/step - loss: 0.4664 - accuracy: 0.7946\n",
      "Epoch 83/100\n"
     ]
    },
    {
     "name": "stdout",
     "output_type": "stream",
     "text": [
      "19/19 [==============================] - 0s 2ms/step - loss: 0.4637 - accuracy: 0.7795\n",
      "Epoch 84/100\n",
      "19/19 [==============================] - 0s 1ms/step - loss: 0.4623 - accuracy: 0.7761\n",
      "Epoch 85/100\n",
      "19/19 [==============================] - 0s 1ms/step - loss: 0.4598 - accuracy: 0.7862\n",
      "Epoch 86/100\n",
      "19/19 [==============================] - 0s 1ms/step - loss: 0.4579 - accuracy: 0.7778\n",
      "Epoch 87/100\n",
      "19/19 [==============================] - 0s 1ms/step - loss: 0.4564 - accuracy: 0.7795\n",
      "Epoch 88/100\n",
      "19/19 [==============================] - 0s 1ms/step - loss: 0.4577 - accuracy: 0.7912\n",
      "Epoch 89/100\n",
      "19/19 [==============================] - 0s 899us/step - loss: 0.4537 - accuracy: 0.7795\n",
      "Epoch 90/100\n",
      "19/19 [==============================] - 0s 2ms/step - loss: 0.4525 - accuracy: 0.7862\n",
      "Epoch 91/100\n",
      "19/19 [==============================] - 0s 2ms/step - loss: 0.4508 - accuracy: 0.7761\n",
      "Epoch 92/100\n",
      "19/19 [==============================] - 0s 1ms/step - loss: 0.4493 - accuracy: 0.7862\n",
      "Epoch 93/100\n",
      "19/19 [==============================] - 0s 1ms/step - loss: 0.4510 - accuracy: 0.7761\n",
      "Epoch 94/100\n",
      "19/19 [==============================] - 0s 1ms/step - loss: 0.4516 - accuracy: 0.8013\n",
      "Epoch 95/100\n",
      "19/19 [==============================] - 0s 1ms/step - loss: 0.4513 - accuracy: 0.7778\n",
      "Epoch 96/100\n",
      "19/19 [==============================] - 0s 1ms/step - loss: 0.4467 - accuracy: 0.7761\n",
      "Epoch 97/100\n",
      "19/19 [==============================] - 0s 1ms/step - loss: 0.4474 - accuracy: 0.7929\n",
      "Epoch 98/100\n",
      "19/19 [==============================] - 0s 1ms/step - loss: 0.4441 - accuracy: 0.7845\n",
      "Epoch 99/100\n",
      "19/19 [==============================] - 0s 1ms/step - loss: 0.4485 - accuracy: 0.7761\n",
      "Epoch 100/100\n",
      "19/19 [==============================] - 0s 1ms/step - loss: 0.4405 - accuracy: 0.7896\n",
      "10/10 [==============================] - 0s 1ms/step - loss: 0.5083 - accuracy: 0.7576\n",
      "Epoch 1/100\n",
      "19/19 [==============================] - 0s 2ms/step - loss: 0.6923 - accuracy: 0.6212\n",
      "Epoch 2/100\n",
      "19/19 [==============================] - 0s 2ms/step - loss: 0.6892 - accuracy: 0.6532\n",
      "Epoch 3/100\n",
      "19/19 [==============================] - 0s 2ms/step - loss: 0.6837 - accuracy: 0.6616\n",
      "Epoch 4/100\n",
      "19/19 [==============================] - 0s 2ms/step - loss: 0.6737 - accuracy: 0.6700\n",
      "Epoch 5/100\n",
      "19/19 [==============================] - 0s 2ms/step - loss: 0.6571 - accuracy: 0.6717\n",
      "Epoch 6/100\n",
      "19/19 [==============================] - 0s 2ms/step - loss: 0.6374 - accuracy: 0.6734\n",
      "Epoch 7/100\n",
      "19/19 [==============================] - 0s 1ms/step - loss: 0.6174 - accuracy: 0.6684\n",
      "Epoch 8/100\n",
      "19/19 [==============================] - 0s 1ms/step - loss: 0.6041 - accuracy: 0.6700\n",
      "Epoch 9/100\n",
      "19/19 [==============================] - 0s 1ms/step - loss: 0.5952 - accuracy: 0.6700\n",
      "Epoch 10/100\n",
      "19/19 [==============================] - 0s 1ms/step - loss: 0.5914 - accuracy: 0.6734\n",
      "Epoch 11/100\n",
      "19/19 [==============================] - 0s 1ms/step - loss: 0.5891 - accuracy: 0.6835\n",
      "Epoch 12/100\n",
      "19/19 [==============================] - 0s 1ms/step - loss: 0.5875 - accuracy: 0.6785\n",
      "Epoch 13/100\n",
      "19/19 [==============================] - 0s 1ms/step - loss: 0.5852 - accuracy: 0.6801\n",
      "Epoch 14/100\n",
      "19/19 [==============================] - 0s 1ms/step - loss: 0.5833 - accuracy: 0.6768\n",
      "Epoch 15/100\n",
      "19/19 [==============================] - 0s 1ms/step - loss: 0.5821 - accuracy: 0.6768\n",
      "Epoch 16/100\n",
      "19/19 [==============================] - 0s 2ms/step - loss: 0.5808 - accuracy: 0.6801\n",
      "Epoch 17/100\n",
      "19/19 [==============================] - 0s 1ms/step - loss: 0.5804 - accuracy: 0.6751\n",
      "Epoch 18/100\n",
      "19/19 [==============================] - 0s 1ms/step - loss: 0.5787 - accuracy: 0.6768\n",
      "Epoch 19/100\n",
      "19/19 [==============================] - 0s 1ms/step - loss: 0.5766 - accuracy: 0.6768\n",
      "Epoch 20/100\n",
      "19/19 [==============================] - 0s 1ms/step - loss: 0.5766 - accuracy: 0.6785\n",
      "Epoch 21/100\n",
      "19/19 [==============================] - 0s 2ms/step - loss: 0.5750 - accuracy: 0.6768\n",
      "Epoch 22/100\n",
      "19/19 [==============================] - 0s 2ms/step - loss: 0.5745 - accuracy: 0.6768\n",
      "Epoch 23/100\n",
      "19/19 [==============================] - 0s 1ms/step - loss: 0.5723 - accuracy: 0.6801\n",
      "Epoch 24/100\n",
      "19/19 [==============================] - 0s 2ms/step - loss: 0.5719 - accuracy: 0.6801\n",
      "Epoch 25/100\n",
      "19/19 [==============================] - 0s 2ms/step - loss: 0.5702 - accuracy: 0.6835\n",
      "Epoch 26/100\n",
      "19/19 [==============================] - 0s 1ms/step - loss: 0.5692 - accuracy: 0.6801\n",
      "Epoch 27/100\n",
      "19/19 [==============================] - 0s 2ms/step - loss: 0.5693 - accuracy: 0.6818\n",
      "Epoch 28/100\n",
      "19/19 [==============================] - 0s 1ms/step - loss: 0.5665 - accuracy: 0.6818\n",
      "Epoch 29/100\n",
      "19/19 [==============================] - 0s 1ms/step - loss: 0.5663 - accuracy: 0.6818\n",
      "Epoch 30/100\n",
      "19/19 [==============================] - 0s 1ms/step - loss: 0.5645 - accuracy: 0.6835\n",
      "Epoch 31/100\n",
      "19/19 [==============================] - 0s 1ms/step - loss: 0.5634 - accuracy: 0.6818\n",
      "Epoch 32/100\n",
      "19/19 [==============================] - 0s 1ms/step - loss: 0.5632 - accuracy: 0.6801\n",
      "Epoch 33/100\n",
      "19/19 [==============================] - 0s 2ms/step - loss: 0.5610 - accuracy: 0.6818\n",
      "Epoch 34/100\n",
      "19/19 [==============================] - 0s 1ms/step - loss: 0.5599 - accuracy: 0.6852\n",
      "Epoch 35/100\n",
      "19/19 [==============================] - 0s 2ms/step - loss: 0.5591 - accuracy: 0.6818\n",
      "Epoch 36/100\n",
      "19/19 [==============================] - 0s 1ms/step - loss: 0.5572 - accuracy: 0.6818\n",
      "Epoch 37/100\n",
      "19/19 [==============================] - 0s 1ms/step - loss: 0.5568 - accuracy: 0.6852\n",
      "Epoch 38/100\n",
      "19/19 [==============================] - 0s 1ms/step - loss: 0.5551 - accuracy: 0.6835\n",
      "Epoch 39/100\n",
      "19/19 [==============================] - 0s 1ms/step - loss: 0.5535 - accuracy: 0.6835\n",
      "Epoch 40/100\n",
      "19/19 [==============================] - 0s 2ms/step - loss: 0.5534 - accuracy: 0.6768\n",
      "Epoch 41/100\n",
      "19/19 [==============================] - 0s 2ms/step - loss: 0.5511 - accuracy: 0.6801\n",
      "Epoch 42/100\n",
      "19/19 [==============================] - 0s 1ms/step - loss: 0.5500 - accuracy: 0.6768\n",
      "Epoch 43/100\n",
      "19/19 [==============================] - 0s 1ms/step - loss: 0.5483 - accuracy: 0.6886\n",
      "Epoch 44/100\n",
      "19/19 [==============================] - 0s 2ms/step - loss: 0.5462 - accuracy: 0.6835\n",
      "Epoch 45/100\n",
      "19/19 [==============================] - 0s 1ms/step - loss: 0.5457 - accuracy: 0.6852\n",
      "Epoch 46/100\n",
      "19/19 [==============================] - 0s 2ms/step - loss: 0.5436 - accuracy: 0.6852\n",
      "Epoch 47/100\n",
      "19/19 [==============================] - 0s 2ms/step - loss: 0.5421 - accuracy: 0.6785\n",
      "Epoch 48/100\n",
      "19/19 [==============================] - 0s 1ms/step - loss: 0.5403 - accuracy: 0.6835\n",
      "Epoch 49/100\n",
      "19/19 [==============================] - 0s 2ms/step - loss: 0.5393 - accuracy: 0.6869\n",
      "Epoch 50/100\n",
      "19/19 [==============================] - 0s 2ms/step - loss: 0.5391 - accuracy: 0.6801\n",
      "Epoch 51/100\n",
      "19/19 [==============================] - 0s 2ms/step - loss: 0.5380 - accuracy: 0.6869\n",
      "Epoch 52/100\n",
      "19/19 [==============================] - 0s 1ms/step - loss: 0.5352 - accuracy: 0.6886\n",
      "Epoch 53/100\n",
      "19/19 [==============================] - 0s 2ms/step - loss: 0.5339 - accuracy: 0.6818\n",
      "Epoch 54/100\n",
      "19/19 [==============================] - 0s 2ms/step - loss: 0.5328 - accuracy: 0.6919\n",
      "Epoch 55/100\n",
      "19/19 [==============================] - 0s 1ms/step - loss: 0.5308 - accuracy: 0.6936\n",
      "Epoch 56/100\n",
      "19/19 [==============================] - 0s 1ms/step - loss: 0.5293 - accuracy: 0.6936\n",
      "Epoch 57/100\n",
      "19/19 [==============================] - 0s 1ms/step - loss: 0.5279 - accuracy: 0.6919\n",
      "Epoch 58/100\n",
      "19/19 [==============================] - 0s 2ms/step - loss: 0.5260 - accuracy: 0.6902\n",
      "Epoch 59/100\n",
      "19/19 [==============================] - 0s 1ms/step - loss: 0.5292 - accuracy: 0.7020\n",
      "Epoch 60/100\n",
      "19/19 [==============================] - 0s 1ms/step - loss: 0.5229 - accuracy: 0.7020\n",
      "Epoch 61/100\n",
      "19/19 [==============================] - 0s 1ms/step - loss: 0.5198 - accuracy: 0.7104\n",
      "Epoch 62/100\n",
      "19/19 [==============================] - 0s 2ms/step - loss: 0.5164 - accuracy: 0.7222\n",
      "Epoch 63/100\n",
      "19/19 [==============================] - 0s 2ms/step - loss: 0.5128 - accuracy: 0.7155\n",
      "Epoch 64/100\n",
      "19/19 [==============================] - 0s 1ms/step - loss: 0.5089 - accuracy: 0.7340\n",
      "Epoch 65/100\n",
      "19/19 [==============================] - 0s 1ms/step - loss: 0.5044 - accuracy: 0.7290\n",
      "Epoch 66/100\n",
      "19/19 [==============================] - 0s 2ms/step - loss: 0.5014 - accuracy: 0.7357\n",
      "Epoch 67/100\n",
      "19/19 [==============================] - 0s 2ms/step - loss: 0.4978 - accuracy: 0.7508\n",
      "Epoch 68/100\n",
      "19/19 [==============================] - 0s 2ms/step - loss: 0.4931 - accuracy: 0.7626\n",
      "Epoch 69/100\n",
      "19/19 [==============================] - 0s 1ms/step - loss: 0.4894 - accuracy: 0.7795\n",
      "Epoch 70/100\n",
      "19/19 [==============================] - 0s 1ms/step - loss: 0.4869 - accuracy: 0.7845\n",
      "Epoch 71/100\n",
      "19/19 [==============================] - 0s 2ms/step - loss: 0.4865 - accuracy: 0.7778\n",
      "Epoch 72/100\n",
      "19/19 [==============================] - 0s 2ms/step - loss: 0.4826 - accuracy: 0.7879\n",
      "Epoch 73/100\n",
      "19/19 [==============================] - 0s 2ms/step - loss: 0.4832 - accuracy: 0.7727\n",
      "Epoch 74/100\n",
      "19/19 [==============================] - 0s 1ms/step - loss: 0.4726 - accuracy: 0.7997\n",
      "Epoch 75/100\n",
      "19/19 [==============================] - 0s 893us/step - loss: 0.4710 - accuracy: 0.7946\n",
      "Epoch 76/100\n",
      "19/19 [==============================] - 0s 1ms/step - loss: 0.4680 - accuracy: 0.7963\n",
      "Epoch 77/100\n",
      "19/19 [==============================] - 0s 1ms/step - loss: 0.4681 - accuracy: 0.7929\n",
      "Epoch 78/100\n",
      "19/19 [==============================] - 0s 1ms/step - loss: 0.4655 - accuracy: 0.7980\n",
      "Epoch 79/100\n",
      "19/19 [==============================] - 0s 1ms/step - loss: 0.4648 - accuracy: 0.7929\n",
      "Epoch 80/100\n",
      "19/19 [==============================] - 0s 1ms/step - loss: 0.4646 - accuracy: 0.8030\n",
      "Epoch 81/100\n",
      "19/19 [==============================] - 0s 1ms/step - loss: 0.4644 - accuracy: 0.7845\n",
      "Epoch 82/100\n",
      "19/19 [==============================] - 0s 1ms/step - loss: 0.4585 - accuracy: 0.7980\n",
      "Epoch 83/100\n",
      "19/19 [==============================] - 0s 1ms/step - loss: 0.4572 - accuracy: 0.7896\n",
      "Epoch 84/100\n",
      "19/19 [==============================] - 0s 1ms/step - loss: 0.4655 - accuracy: 0.7946\n",
      "Epoch 85/100\n",
      "19/19 [==============================] - 0s 1ms/step - loss: 0.4565 - accuracy: 0.7929\n",
      "Epoch 86/100\n",
      "19/19 [==============================] - 0s 1ms/step - loss: 0.4531 - accuracy: 0.8030\n",
      "Epoch 87/100\n",
      "19/19 [==============================] - 0s 1ms/step - loss: 0.4525 - accuracy: 0.7963\n",
      "Epoch 88/100\n",
      "19/19 [==============================] - 0s 1ms/step - loss: 0.4570 - accuracy: 0.7845\n",
      "Epoch 89/100\n",
      "19/19 [==============================] - 0s 1ms/step - loss: 0.4590 - accuracy: 0.7980\n",
      "Epoch 90/100\n",
      "19/19 [==============================] - 0s 2ms/step - loss: 0.4513 - accuracy: 0.7912\n",
      "Epoch 91/100\n",
      "19/19 [==============================] - 0s 2ms/step - loss: 0.4488 - accuracy: 0.7879\n",
      "Epoch 92/100\n",
      "19/19 [==============================] - 0s 889us/step - loss: 0.4497 - accuracy: 0.7946\n",
      "Epoch 93/100\n",
      "19/19 [==============================] - 0s 1ms/step - loss: 0.4470 - accuracy: 0.7980\n",
      "Epoch 94/100\n",
      "19/19 [==============================] - 0s 2ms/step - loss: 0.4464 - accuracy: 0.7997\n",
      "Epoch 95/100\n",
      "19/19 [==============================] - 0s 2ms/step - loss: 0.4471 - accuracy: 0.7896\n",
      "Epoch 96/100\n",
      "19/19 [==============================] - 0s 1ms/step - loss: 0.4455 - accuracy: 0.7963\n",
      "Epoch 97/100\n",
      "19/19 [==============================] - 0s 1ms/step - loss: 0.4485 - accuracy: 0.7946\n",
      "Epoch 98/100\n",
      "19/19 [==============================] - 0s 1ms/step - loss: 0.4445 - accuracy: 0.8030\n",
      "Epoch 99/100\n",
      "19/19 [==============================] - 0s 1ms/step - loss: 0.4496 - accuracy: 0.7963\n",
      "Epoch 100/100\n",
      "19/19 [==============================] - 0s 2ms/step - loss: 0.4540 - accuracy: 0.7997\n",
      "10/10 [==============================] - 0s 886us/step - loss: 0.4753 - accuracy: 0.7845\n",
      "Epoch 1/100\n",
      "19/19 [==============================] - 0s 2ms/step - loss: 0.6922 - accuracy: 0.5859\n",
      "Epoch 2/100\n",
      "19/19 [==============================] - 0s 2ms/step - loss: 0.6897 - accuracy: 0.6044\n",
      "Epoch 3/100\n",
      "19/19 [==============================] - 0s 1ms/step - loss: 0.6864 - accuracy: 0.6061\n",
      "Epoch 4/100\n",
      "19/19 [==============================] - 0s 1ms/step - loss: 0.6812 - accuracy: 0.6111\n",
      "Epoch 5/100\n",
      "19/19 [==============================] - 0s 1ms/step - loss: 0.6734 - accuracy: 0.6313\n",
      "Epoch 6/100\n",
      "19/19 [==============================] - 0s 2ms/step - loss: 0.6641 - accuracy: 0.6397\n",
      "Epoch 7/100\n",
      "19/19 [==============================] - 0s 1ms/step - loss: 0.6522 - accuracy: 0.6364\n",
      "Epoch 8/100\n",
      "19/19 [==============================] - 0s 2ms/step - loss: 0.6424 - accuracy: 0.6431\n",
      "Epoch 9/100\n",
      "19/19 [==============================] - 0s 1ms/step - loss: 0.6341 - accuracy: 0.6498\n",
      "Epoch 10/100\n",
      "19/19 [==============================] - 0s 1ms/step - loss: 0.6287 - accuracy: 0.6532\n",
      "Epoch 11/100\n",
      "19/19 [==============================] - 0s 1ms/step - loss: 0.6244 - accuracy: 0.6515\n",
      "Epoch 12/100\n",
      "19/19 [==============================] - 0s 1ms/step - loss: 0.6224 - accuracy: 0.6532\n",
      "Epoch 13/100\n",
      "19/19 [==============================] - 0s 2ms/step - loss: 0.6201 - accuracy: 0.6566\n",
      "Epoch 14/100\n",
      "19/19 [==============================] - 0s 1ms/step - loss: 0.6188 - accuracy: 0.6549\n",
      "Epoch 15/100\n",
      "19/19 [==============================] - 0s 2ms/step - loss: 0.6170 - accuracy: 0.6650\n",
      "Epoch 16/100\n",
      "19/19 [==============================] - 0s 2ms/step - loss: 0.6172 - accuracy: 0.6667\n",
      "Epoch 17/100\n",
      "19/19 [==============================] - 0s 1ms/step - loss: 0.6154 - accuracy: 0.6684\n",
      "Epoch 18/100\n",
      "19/19 [==============================] - 0s 2ms/step - loss: 0.6145 - accuracy: 0.6684\n",
      "Epoch 19/100\n",
      "19/19 [==============================] - 0s 2ms/step - loss: 0.6119 - accuracy: 0.6684\n",
      "Epoch 20/100\n",
      "19/19 [==============================] - 0s 1ms/step - loss: 0.6113 - accuracy: 0.6684\n",
      "Epoch 21/100\n",
      "19/19 [==============================] - 0s 2ms/step - loss: 0.6093 - accuracy: 0.6700\n",
      "Epoch 22/100\n",
      "19/19 [==============================] - 0s 2ms/step - loss: 0.6080 - accuracy: 0.6734\n",
      "Epoch 23/100\n",
      "19/19 [==============================] - 0s 2ms/step - loss: 0.6066 - accuracy: 0.6717\n",
      "Epoch 24/100\n",
      "19/19 [==============================] - 0s 1ms/step - loss: 0.6053 - accuracy: 0.6734\n",
      "Epoch 25/100\n",
      "19/19 [==============================] - 0s 2ms/step - loss: 0.6041 - accuracy: 0.6700\n",
      "Epoch 26/100\n",
      "19/19 [==============================] - 0s 1ms/step - loss: 0.6032 - accuracy: 0.6751\n",
      "Epoch 27/100\n",
      "19/19 [==============================] - 0s 1ms/step - loss: 0.6014 - accuracy: 0.6734\n",
      "Epoch 28/100\n",
      "19/19 [==============================] - 0s 2ms/step - loss: 0.5994 - accuracy: 0.6768\n",
      "Epoch 29/100\n",
      "19/19 [==============================] - 0s 1ms/step - loss: 0.5982 - accuracy: 0.6785\n",
      "Epoch 30/100\n",
      "19/19 [==============================] - 0s 1ms/step - loss: 0.5969 - accuracy: 0.6751\n",
      "Epoch 31/100\n",
      "19/19 [==============================] - 0s 2ms/step - loss: 0.5950 - accuracy: 0.6751\n",
      "Epoch 32/100\n",
      "19/19 [==============================] - 0s 1ms/step - loss: 0.5928 - accuracy: 0.6785\n",
      "Epoch 33/100\n",
      "19/19 [==============================] - 0s 1ms/step - loss: 0.5912 - accuracy: 0.6801\n",
      "Epoch 34/100\n",
      "19/19 [==============================] - 0s 2ms/step - loss: 0.5886 - accuracy: 0.6818\n",
      "Epoch 35/100\n",
      "19/19 [==============================] - 0s 1ms/step - loss: 0.5861 - accuracy: 0.6818\n",
      "Epoch 36/100\n",
      "19/19 [==============================] - 0s 1ms/step - loss: 0.5837 - accuracy: 0.6869\n",
      "Epoch 37/100\n",
      "19/19 [==============================] - 0s 1ms/step - loss: 0.5824 - accuracy: 0.6886\n",
      "Epoch 38/100\n",
      "19/19 [==============================] - 0s 1ms/step - loss: 0.5780 - accuracy: 0.6953\n",
      "Epoch 39/100\n",
      "19/19 [==============================] - 0s 1ms/step - loss: 0.5740 - accuracy: 0.7037\n",
      "Epoch 40/100\n",
      "19/19 [==============================] - 0s 1ms/step - loss: 0.5705 - accuracy: 0.7037\n",
      "Epoch 41/100\n",
      "19/19 [==============================] - 0s 1ms/step - loss: 0.5669 - accuracy: 0.7172\n",
      "Epoch 42/100\n",
      "19/19 [==============================] - 0s 2ms/step - loss: 0.5616 - accuracy: 0.7189\n",
      "Epoch 43/100\n",
      "19/19 [==============================] - 0s 2ms/step - loss: 0.5560 - accuracy: 0.7306\n",
      "Epoch 44/100\n",
      "19/19 [==============================] - 0s 3ms/step - loss: 0.5514 - accuracy: 0.7306\n",
      "Epoch 45/100\n"
     ]
    },
    {
     "name": "stdout",
     "output_type": "stream",
     "text": [
      "19/19 [==============================] - 0s 900us/step - loss: 0.5449 - accuracy: 0.7525\n",
      "Epoch 46/100\n",
      "19/19 [==============================] - 0s 1ms/step - loss: 0.5398 - accuracy: 0.7559\n",
      "Epoch 47/100\n",
      "19/19 [==============================] - 0s 1ms/step - loss: 0.5359 - accuracy: 0.7609\n",
      "Epoch 48/100\n",
      "19/19 [==============================] - 0s 2ms/step - loss: 0.5332 - accuracy: 0.7593\n",
      "Epoch 49/100\n",
      "19/19 [==============================] - 0s 2ms/step - loss: 0.5267 - accuracy: 0.7677\n",
      "Epoch 50/100\n",
      "19/19 [==============================] - 0s 2ms/step - loss: 0.5233 - accuracy: 0.7744\n",
      "Epoch 51/100\n",
      "19/19 [==============================] - 0s 2ms/step - loss: 0.5184 - accuracy: 0.7795\n",
      "Epoch 52/100\n",
      "19/19 [==============================] - 0s 2ms/step - loss: 0.5181 - accuracy: 0.7811\n",
      "Epoch 53/100\n",
      "19/19 [==============================] - 0s 2ms/step - loss: 0.5122 - accuracy: 0.7862\n",
      "Epoch 54/100\n",
      "19/19 [==============================] - 0s 2ms/step - loss: 0.5149 - accuracy: 0.7811\n",
      "Epoch 55/100\n",
      "19/19 [==============================] - 0s 2ms/step - loss: 0.5133 - accuracy: 0.7727\n",
      "Epoch 56/100\n",
      "19/19 [==============================] - 0s 3ms/step - loss: 0.5182 - accuracy: 0.7795\n",
      "Epoch 57/100\n",
      "19/19 [==============================] - 0s 2ms/step - loss: 0.5070 - accuracy: 0.7778\n",
      "Epoch 58/100\n",
      "19/19 [==============================] - 0s 2ms/step - loss: 0.4994 - accuracy: 0.7946\n",
      "Epoch 59/100\n",
      "19/19 [==============================] - 0s 2ms/step - loss: 0.5091 - accuracy: 0.7761\n",
      "Epoch 60/100\n",
      "19/19 [==============================] - 0s 2ms/step - loss: 0.4975 - accuracy: 0.7912\n",
      "Epoch 61/100\n",
      "19/19 [==============================] - 0s 1ms/step - loss: 0.5019 - accuracy: 0.7946\n",
      "Epoch 62/100\n",
      "19/19 [==============================] - 0s 1ms/step - loss: 0.5077 - accuracy: 0.7811\n",
      "Epoch 63/100\n",
      "19/19 [==============================] - 0s 2ms/step - loss: 0.4925 - accuracy: 0.7811\n",
      "Epoch 64/100\n",
      "19/19 [==============================] - 0s 2ms/step - loss: 0.4890 - accuracy: 0.7862\n",
      "Epoch 65/100\n",
      "19/19 [==============================] - 0s 2ms/step - loss: 0.4855 - accuracy: 0.7795\n",
      "Epoch 66/100\n",
      "19/19 [==============================] - 0s 2ms/step - loss: 0.4854 - accuracy: 0.7862\n",
      "Epoch 67/100\n",
      "19/19 [==============================] - 0s 2ms/step - loss: 0.4835 - accuracy: 0.7963\n",
      "Epoch 68/100\n",
      "19/19 [==============================] - 0s 2ms/step - loss: 0.4877 - accuracy: 0.7795\n",
      "Epoch 69/100\n",
      "19/19 [==============================] - 0s 1ms/step - loss: 0.4808 - accuracy: 0.7828\n",
      "Epoch 70/100\n",
      "19/19 [==============================] - 0s 2ms/step - loss: 0.4783 - accuracy: 0.7879\n",
      "Epoch 71/100\n",
      "19/19 [==============================] - 0s 2ms/step - loss: 0.4797 - accuracy: 0.7879\n",
      "Epoch 72/100\n",
      "19/19 [==============================] - 0s 2ms/step - loss: 0.4827 - accuracy: 0.7862\n",
      "Epoch 73/100\n",
      "19/19 [==============================] - 0s 1ms/step - loss: 0.4809 - accuracy: 0.7879\n",
      "Epoch 74/100\n",
      "19/19 [==============================] - 0s 2ms/step - loss: 0.4774 - accuracy: 0.7828\n",
      "Epoch 75/100\n",
      "19/19 [==============================] - 0s 2ms/step - loss: 0.4812 - accuracy: 0.7845\n",
      "Epoch 76/100\n",
      "19/19 [==============================] - 0s 2ms/step - loss: 0.4768 - accuracy: 0.7896\n",
      "Epoch 77/100\n",
      "19/19 [==============================] - 0s 2ms/step - loss: 0.4746 - accuracy: 0.7862\n",
      "Epoch 78/100\n",
      "19/19 [==============================] - 0s 2ms/step - loss: 0.4760 - accuracy: 0.7912\n",
      "Epoch 79/100\n",
      "19/19 [==============================] - 0s 2ms/step - loss: 0.4737 - accuracy: 0.7862\n",
      "Epoch 80/100\n",
      "19/19 [==============================] - 0s 2ms/step - loss: 0.4709 - accuracy: 0.7879\n",
      "Epoch 81/100\n",
      "19/19 [==============================] - 0s 2ms/step - loss: 0.4752 - accuracy: 0.7862\n",
      "Epoch 82/100\n",
      "19/19 [==============================] - 0s 2ms/step - loss: 0.4774 - accuracy: 0.7879\n",
      "Epoch 83/100\n",
      "19/19 [==============================] - 0s 1ms/step - loss: 0.4780 - accuracy: 0.7912\n",
      "Epoch 84/100\n",
      "19/19 [==============================] - 0s 2ms/step - loss: 0.4696 - accuracy: 0.7862\n",
      "Epoch 85/100\n",
      "19/19 [==============================] - 0s 2ms/step - loss: 0.4688 - accuracy: 0.7896\n",
      "Epoch 86/100\n",
      "19/19 [==============================] - 0s 2ms/step - loss: 0.4709 - accuracy: 0.7912\n",
      "Epoch 87/100\n",
      "19/19 [==============================] - 0s 2ms/step - loss: 0.4758 - accuracy: 0.7896\n",
      "Epoch 88/100\n",
      "19/19 [==============================] - 0s 2ms/step - loss: 0.4712 - accuracy: 0.7879\n",
      "Epoch 89/100\n",
      "19/19 [==============================] - 0s 1ms/step - loss: 0.4729 - accuracy: 0.7845\n",
      "Epoch 90/100\n",
      "19/19 [==============================] - 0s 2ms/step - loss: 0.4702 - accuracy: 0.7862\n",
      "Epoch 91/100\n",
      "19/19 [==============================] - 0s 1ms/step - loss: 0.4678 - accuracy: 0.7896\n",
      "Epoch 92/100\n",
      "19/19 [==============================] - 0s 1ms/step - loss: 0.4681 - accuracy: 0.7845\n",
      "Epoch 93/100\n",
      "19/19 [==============================] - 0s 2ms/step - loss: 0.4689 - accuracy: 0.7862\n",
      "Epoch 94/100\n",
      "19/19 [==============================] - 0s 2ms/step - loss: 0.4672 - accuracy: 0.7828\n",
      "Epoch 95/100\n",
      "19/19 [==============================] - 0s 2ms/step - loss: 0.4689 - accuracy: 0.7929\n",
      "Epoch 96/100\n",
      "19/19 [==============================] - 0s 1ms/step - loss: 0.4706 - accuracy: 0.7845\n",
      "Epoch 97/100\n",
      "19/19 [==============================] - 0s 1ms/step - loss: 0.4652 - accuracy: 0.7879\n",
      "Epoch 98/100\n",
      "19/19 [==============================] - 0s 1ms/step - loss: 0.4652 - accuracy: 0.7896\n",
      "Epoch 99/100\n",
      "19/19 [==============================] - 0s 1ms/step - loss: 0.4645 - accuracy: 0.7879\n",
      "Epoch 100/100\n",
      "19/19 [==============================] - 0s 1ms/step - loss: 0.4649 - accuracy: 0.7929\n",
      "10/10 [==============================] - 0s 1ms/step - loss: 0.4390 - accuracy: 0.7845\n",
      "Accuracy mean: 0.775533119837443\n",
      "Accuracy variance: 0.012697777736170096\n"
     ]
    }
   ],
   "source": [
    "from keras.wrappers.scikit_learn import KerasClassifier\n",
    "from sklearn.model_selection import cross_val_score\n",
    "from keras.models import Sequential # initialize neural network library\n",
    "from keras.layers import Dense # build our layers library\n",
    "def build_classifier():\n",
    "    classifier = Sequential() # initialize neural network\n",
    "    classifier.add(Dense(units = 8, kernel_initializer = 'uniform', activation = 'relu', input_dim = X_train.shape[1]))\n",
    "    classifier.add(Dense(units = 4, kernel_initializer = 'uniform', activation = 'relu'))\n",
    "    classifier.add(Dense(units = 1, kernel_initializer = 'uniform', activation = 'sigmoid'))\n",
    "    classifier.compile(optimizer = 'adam', loss = 'binary_crossentropy', metrics = ['accuracy'])\n",
    "    return classifier\n",
    "classifier = KerasClassifier(build_fn = build_classifier, epochs = 100)\n",
    "accuracies = cross_val_score(estimator = classifier, X = X_train, y = y_train, cv = 3)\n",
    "mean = accuracies.mean()\n",
    "variance = accuracies.std()\n",
    "print(\"Accuracy mean: \"+ str(mean))\n",
    "print(\"Accuracy variance: \"+ str(variance))"
   ]
  },
  {
   "cell_type": "code",
   "execution_count": 47,
   "id": "37ee5b4f",
   "metadata": {},
   "outputs": [
    {
     "name": "stdout",
     "output_type": "stream",
     "text": [
      "Epoch 1/100\n",
      "28/28 [==============================] - 0s 1ms/step - loss: 0.6908 - accuracy: 0.6139\n",
      "Epoch 2/100\n",
      "28/28 [==============================] - 0s 1ms/step - loss: 0.6822 - accuracy: 0.6218\n",
      "Epoch 3/100\n",
      "28/28 [==============================] - 0s 1ms/step - loss: 0.6630 - accuracy: 0.6330\n",
      "Epoch 4/100\n",
      "28/28 [==============================] - 0s 1ms/step - loss: 0.6376 - accuracy: 0.6588\n",
      "Epoch 5/100\n",
      "28/28 [==============================] - 0s 1ms/step - loss: 0.6195 - accuracy: 0.6532\n",
      "Epoch 6/100\n",
      "28/28 [==============================] - 0s 1ms/step - loss: 0.6075 - accuracy: 0.6723\n",
      "Epoch 7/100\n",
      "28/28 [==============================] - 0s 2ms/step - loss: 0.6034 - accuracy: 0.6779\n",
      "Epoch 8/100\n",
      "28/28 [==============================] - 0s 1ms/step - loss: 0.5974 - accuracy: 0.6869\n",
      "Epoch 9/100\n",
      "28/28 [==============================] - 0s 2ms/step - loss: 0.5953 - accuracy: 0.6846\n",
      "Epoch 10/100\n",
      "28/28 [==============================] - 0s 2ms/step - loss: 0.5937 - accuracy: 0.6914\n",
      "Epoch 11/100\n",
      "28/28 [==============================] - 0s 2ms/step - loss: 0.5914 - accuracy: 0.6880\n",
      "Epoch 12/100\n",
      "28/28 [==============================] - 0s 1ms/step - loss: 0.5895 - accuracy: 0.6914\n",
      "Epoch 13/100\n",
      "28/28 [==============================] - 0s 1ms/step - loss: 0.5889 - accuracy: 0.6902\n",
      "Epoch 14/100\n",
      "28/28 [==============================] - 0s 1ms/step - loss: 0.5876 - accuracy: 0.6914\n",
      "Epoch 15/100\n",
      "28/28 [==============================] - 0s 1ms/step - loss: 0.5851 - accuracy: 0.6902\n",
      "Epoch 16/100\n",
      "28/28 [==============================] - 0s 2ms/step - loss: 0.5840 - accuracy: 0.6891\n",
      "Epoch 17/100\n",
      "28/28 [==============================] - 0s 1ms/step - loss: 0.5827 - accuracy: 0.6902\n",
      "Epoch 18/100\n",
      "28/28 [==============================] - 0s 2ms/step - loss: 0.5813 - accuracy: 0.6936\n",
      "Epoch 19/100\n",
      "28/28 [==============================] - 0s 2ms/step - loss: 0.5800 - accuracy: 0.6925\n",
      "Epoch 20/100\n",
      "28/28 [==============================] - 0s 1ms/step - loss: 0.5788 - accuracy: 0.6958\n",
      "Epoch 21/100\n",
      "28/28 [==============================] - 0s 2ms/step - loss: 0.5783 - accuracy: 0.6970\n",
      "Epoch 22/100\n",
      "28/28 [==============================] - 0s 1ms/step - loss: 0.5780 - accuracy: 0.6947\n",
      "Epoch 23/100\n",
      "28/28 [==============================] - 0s 1ms/step - loss: 0.5743 - accuracy: 0.6947\n",
      "Epoch 24/100\n",
      "28/28 [==============================] - 0s 1ms/step - loss: 0.5718 - accuracy: 0.7003\n",
      "Epoch 25/100\n",
      "28/28 [==============================] - 0s 1ms/step - loss: 0.5700 - accuracy: 0.6992\n",
      "Epoch 26/100\n",
      "28/28 [==============================] - 0s 2ms/step - loss: 0.5687 - accuracy: 0.6947\n",
      "Epoch 27/100\n",
      "28/28 [==============================] - 0s 1ms/step - loss: 0.5664 - accuracy: 0.6981\n",
      "Epoch 28/100\n",
      "28/28 [==============================] - 0s 1ms/step - loss: 0.5643 - accuracy: 0.6992\n",
      "Epoch 29/100\n",
      "28/28 [==============================] - 0s 2ms/step - loss: 0.5630 - accuracy: 0.6992\n",
      "Epoch 30/100\n",
      "28/28 [==============================] - 0s 2ms/step - loss: 0.5608 - accuracy: 0.6981\n",
      "Epoch 31/100\n",
      "28/28 [==============================] - 0s 1ms/step - loss: 0.5588 - accuracy: 0.7015\n",
      "Epoch 32/100\n",
      "28/28 [==============================] - 0s 2ms/step - loss: 0.5559 - accuracy: 0.6970\n",
      "Epoch 33/100\n",
      "28/28 [==============================] - 0s 2ms/step - loss: 0.5543 - accuracy: 0.7026\n",
      "Epoch 34/100\n",
      "28/28 [==============================] - 0s 1ms/step - loss: 0.5518 - accuracy: 0.6981\n",
      "Epoch 35/100\n",
      "28/28 [==============================] - 0s 2ms/step - loss: 0.5491 - accuracy: 0.7059\n",
      "Epoch 36/100\n",
      "28/28 [==============================] - 0s 2ms/step - loss: 0.5461 - accuracy: 0.7071\n",
      "Epoch 37/100\n",
      "28/28 [==============================] - 0s 1ms/step - loss: 0.5422 - accuracy: 0.7160\n",
      "Epoch 38/100\n",
      "28/28 [==============================] - 0s 2ms/step - loss: 0.5374 - accuracy: 0.7250\n",
      "Epoch 39/100\n",
      "28/28 [==============================] - 0s 1ms/step - loss: 0.5323 - accuracy: 0.7329\n",
      "Epoch 40/100\n",
      "28/28 [==============================] - 0s 2ms/step - loss: 0.5270 - accuracy: 0.7396\n",
      "Epoch 41/100\n",
      "28/28 [==============================] - 0s 2ms/step - loss: 0.5174 - accuracy: 0.7531\n",
      "Epoch 42/100\n",
      "28/28 [==============================] - 0s 2ms/step - loss: 0.5153 - accuracy: 0.7621\n",
      "Epoch 43/100\n",
      "28/28 [==============================] - 0s 2ms/step - loss: 0.5109 - accuracy: 0.7722\n",
      "Epoch 44/100\n",
      "28/28 [==============================] - 0s 1ms/step - loss: 0.5100 - accuracy: 0.7744\n",
      "Epoch 45/100\n",
      "28/28 [==============================] - 0s 1ms/step - loss: 0.5064 - accuracy: 0.7710\n",
      "Epoch 46/100\n",
      "28/28 [==============================] - 0s 1ms/step - loss: 0.4976 - accuracy: 0.7834\n",
      "Epoch 47/100\n",
      "28/28 [==============================] - 0s 1ms/step - loss: 0.4914 - accuracy: 0.7980\n",
      "Epoch 48/100\n",
      "28/28 [==============================] - 0s 1ms/step - loss: 0.4887 - accuracy: 0.7924\n",
      "Epoch 49/100\n",
      "28/28 [==============================] - 0s 1ms/step - loss: 0.4830 - accuracy: 0.7890\n",
      "Epoch 50/100\n",
      "28/28 [==============================] - 0s 2ms/step - loss: 0.4816 - accuracy: 0.7901\n",
      "Epoch 51/100\n",
      "28/28 [==============================] - 0s 2ms/step - loss: 0.4822 - accuracy: 0.7957\n",
      "Epoch 52/100\n",
      "28/28 [==============================] - 0s 2ms/step - loss: 0.4788 - accuracy: 0.7901\n",
      "Epoch 53/100\n",
      "28/28 [==============================] - 0s 2ms/step - loss: 0.4742 - accuracy: 0.7856\n",
      "Epoch 54/100\n",
      "28/28 [==============================] - 0s 2ms/step - loss: 0.4716 - accuracy: 0.7912\n",
      "Epoch 55/100\n",
      "28/28 [==============================] - 0s 1ms/step - loss: 0.4677 - accuracy: 0.7856\n",
      "Epoch 56/100\n",
      "28/28 [==============================] - 0s 1ms/step - loss: 0.4734 - accuracy: 0.7969\n",
      "Epoch 57/100\n",
      "28/28 [==============================] - 0s 2ms/step - loss: 0.4668 - accuracy: 0.7924\n",
      "Epoch 58/100\n",
      "28/28 [==============================] - 0s 1ms/step - loss: 0.4648 - accuracy: 0.7957\n",
      "Epoch 59/100\n",
      "28/28 [==============================] - 0s 2ms/step - loss: 0.4659 - accuracy: 0.7935\n",
      "Epoch 60/100\n",
      "28/28 [==============================] - 0s 1ms/step - loss: 0.4634 - accuracy: 0.7890\n",
      "Epoch 61/100\n",
      "28/28 [==============================] - 0s 1ms/step - loss: 0.4631 - accuracy: 0.7912\n",
      "Epoch 62/100\n",
      "28/28 [==============================] - 0s 1ms/step - loss: 0.4630 - accuracy: 0.7845\n",
      "Epoch 63/100\n",
      "28/28 [==============================] - 0s 1ms/step - loss: 0.4646 - accuracy: 0.7868\n",
      "Epoch 64/100\n",
      "28/28 [==============================] - 0s 2ms/step - loss: 0.4588 - accuracy: 0.7868\n",
      "Epoch 65/100\n",
      "28/28 [==============================] - 0s 2ms/step - loss: 0.4651 - accuracy: 0.7868\n",
      "Epoch 66/100\n",
      "28/28 [==============================] - 0s 1ms/step - loss: 0.4584 - accuracy: 0.7879\n",
      "Epoch 67/100\n",
      "28/28 [==============================] - 0s 1ms/step - loss: 0.4576 - accuracy: 0.7868\n",
      "Epoch 68/100\n",
      "28/28 [==============================] - 0s 2ms/step - loss: 0.4594 - accuracy: 0.7845\n",
      "Epoch 69/100\n",
      "28/28 [==============================] - 0s 1ms/step - loss: 0.4659 - accuracy: 0.7868\n",
      "Epoch 70/100\n",
      "28/28 [==============================] - 0s 2ms/step - loss: 0.4617 - accuracy: 0.7980\n",
      "Epoch 71/100\n",
      "28/28 [==============================] - 0s 2ms/step - loss: 0.4562 - accuracy: 0.7879\n",
      "Epoch 72/100\n",
      "28/28 [==============================] - 0s 1ms/step - loss: 0.4538 - accuracy: 0.7879\n",
      "Epoch 73/100\n",
      "28/28 [==============================] - 0s 2ms/step - loss: 0.4528 - accuracy: 0.7879\n",
      "Epoch 74/100\n",
      "28/28 [==============================] - 0s 1ms/step - loss: 0.4526 - accuracy: 0.7901\n",
      "Epoch 75/100\n",
      "28/28 [==============================] - 0s 1ms/step - loss: 0.4519 - accuracy: 0.7879\n",
      "Epoch 76/100\n",
      "28/28 [==============================] - 0s 2ms/step - loss: 0.4542 - accuracy: 0.7834\n",
      "Epoch 77/100\n",
      "28/28 [==============================] - 0s 2ms/step - loss: 0.4509 - accuracy: 0.8036\n",
      "Epoch 78/100\n",
      "28/28 [==============================] - 0s 1ms/step - loss: 0.4508 - accuracy: 0.7823\n",
      "Epoch 79/100\n",
      "28/28 [==============================] - 0s 1ms/step - loss: 0.4510 - accuracy: 0.7879\n",
      "Epoch 80/100\n",
      "28/28 [==============================] - 0s 1ms/step - loss: 0.4500 - accuracy: 0.7856\n",
      "Epoch 81/100\n",
      "28/28 [==============================] - 0s 1ms/step - loss: 0.4497 - accuracy: 0.7879\n",
      "Epoch 82/100\n",
      "28/28 [==============================] - 0s 2ms/step - loss: 0.4519 - accuracy: 0.7834\n",
      "Epoch 83/100\n"
     ]
    },
    {
     "name": "stdout",
     "output_type": "stream",
     "text": [
      "28/28 [==============================] - 0s 1ms/step - loss: 0.4556 - accuracy: 0.7800\n",
      "Epoch 84/100\n",
      "28/28 [==============================] - 0s 1ms/step - loss: 0.4506 - accuracy: 0.7879\n",
      "Epoch 85/100\n",
      "28/28 [==============================] - 0s 1ms/step - loss: 0.4490 - accuracy: 0.7957\n",
      "Epoch 86/100\n",
      "28/28 [==============================] - 0s 1ms/step - loss: 0.4474 - accuracy: 0.7879\n",
      "Epoch 87/100\n",
      "28/28 [==============================] - 0s 1ms/step - loss: 0.4549 - accuracy: 0.7823\n",
      "Epoch 88/100\n",
      "28/28 [==============================] - 0s 2ms/step - loss: 0.4484 - accuracy: 0.7845\n",
      "Epoch 89/100\n",
      "28/28 [==============================] - 0s 1ms/step - loss: 0.4460 - accuracy: 0.7901\n",
      "Epoch 90/100\n",
      "28/28 [==============================] - 0s 1ms/step - loss: 0.4504 - accuracy: 0.7879\n",
      "Epoch 91/100\n",
      "28/28 [==============================] - 0s 1ms/step - loss: 0.4470 - accuracy: 0.7935\n",
      "Epoch 92/100\n",
      "28/28 [==============================] - 0s 1ms/step - loss: 0.4475 - accuracy: 0.7879\n",
      "Epoch 93/100\n",
      "28/28 [==============================] - 0s 1ms/step - loss: 0.4466 - accuracy: 0.7890\n",
      "Epoch 94/100\n",
      "28/28 [==============================] - 0s 1ms/step - loss: 0.4465 - accuracy: 0.7879\n",
      "Epoch 95/100\n",
      "28/28 [==============================] - 0s 1ms/step - loss: 0.4464 - accuracy: 0.7856\n",
      "Epoch 96/100\n",
      "28/28 [==============================] - 0s 1ms/step - loss: 0.4466 - accuracy: 0.7868\n",
      "Epoch 97/100\n",
      "28/28 [==============================] - 0s 1ms/step - loss: 0.4458 - accuracy: 0.7924\n",
      "Epoch 98/100\n",
      "28/28 [==============================] - 0s 1ms/step - loss: 0.4458 - accuracy: 0.7856\n",
      "Epoch 99/100\n",
      "28/28 [==============================] - 0s 1ms/step - loss: 0.4448 - accuracy: 0.7912\n",
      "Epoch 100/100\n",
      "28/28 [==============================] - 0s 2ms/step - loss: 0.4462 - accuracy: 0.7823\n"
     ]
    },
    {
     "data": {
      "text/plain": [
       "<keras.callbacks.History at 0x153e7e36a30>"
      ]
     },
     "execution_count": 47,
     "metadata": {},
     "output_type": "execute_result"
    }
   ],
   "source": [
    "classifier.fit(X_train,y_train)"
   ]
  },
  {
   "cell_type": "code",
   "execution_count": 48,
   "id": "d98e7678",
   "metadata": {
    "scrolled": true
   },
   "outputs": [
    {
     "name": "stdout",
     "output_type": "stream",
     "text": [
      "14/14 [==============================] - 0s 951us/step\n"
     ]
    }
   ],
   "source": [
    "y_pred=classifier.predict(X_test) # y_pred is a 2d array"
   ]
  },
  {
   "cell_type": "code",
   "execution_count": 49,
   "id": "adc7141a",
   "metadata": {},
   "outputs": [],
   "source": [
    "ann_pred=y_pred.flatten() # so converting the 2d array to 1d array"
   ]
  },
  {
   "cell_type": "code",
   "execution_count": 50,
   "id": "25902c20",
   "metadata": {},
   "outputs": [],
   "source": [
    "submission2 = pd.DataFrame({\"PassengerId\": test[\"PassengerId\"],\n",
    "                            \"Survived\": ann_pred})\n",
    "submission2.to_csv('submission2.csv', index=False)"
   ]
  },
  {
   "cell_type": "markdown",
   "id": "1748b804",
   "metadata": {},
   "source": [
    "# NAIVE BAYES"
   ]
  },
  {
   "cell_type": "code",
   "execution_count": 51,
   "id": "62406b04",
   "metadata": {},
   "outputs": [],
   "source": [
    "from sklearn.naive_bayes import GaussianNB\n",
    "model = GaussianNB()"
   ]
  },
  {
   "cell_type": "code",
   "execution_count": 52,
   "id": "e50fe677",
   "metadata": {},
   "outputs": [
    {
     "data": {
      "text/plain": [
       "GaussianNB()"
      ]
     },
     "execution_count": 52,
     "metadata": {},
     "output_type": "execute_result"
    }
   ],
   "source": [
    "model.fit(X_train,y_train)"
   ]
  },
  {
   "cell_type": "code",
   "execution_count": 53,
   "id": "15708181",
   "metadata": {},
   "outputs": [],
   "source": [
    "naive_bayes_pred=model.predict(X_test)"
   ]
  },
  {
   "cell_type": "code",
   "execution_count": 54,
   "id": "55d199c4",
   "metadata": {},
   "outputs": [
    {
     "name": "stdout",
     "output_type": "stream",
     "text": [
      "[0 1 0 0 1 0 1 0 1 0 0 0 1 0 1 1 0 0 1 1 1 0 1 1 1 0 1 0 0 0 0 0 1 1 1 0 0\n",
      " 0 0 0 0 0 0 1 1 0 1 0 1 1 0 0 1 1 0 0 0 0 0 1 0 0 0 1 1 1 1 0 1 1 1 0 0 1\n",
      " 1 1 0 1 0 1 0 1 0 0 0 0 1 0 1 0 1 0 1 0 1 0 1 0 0 0 1 0 0 0 1 0 0 0 0 0 0\n",
      " 1 1 1 1 0 0 1 1 1 1 0 1 0 0 1 0 1 0 0 0 1 1 0 0 0 0 0 0 0 1 1 1 0 0 0 0 0\n",
      " 0 0 1 0 0 1 0 0 1 0 0 1 1 0 1 0 0 1 1 0 1 0 0 0 0 0 0 1 1 1 1 1 0 1 1 0 1\n",
      " 0 1 0 1 0 0 0 0 0 0 0 1 0 0 0 1 0 1 1 0 1 1 0 1 0 0 0 0 1 1 0 1 1 1 0 1 0\n",
      " 1 0 1 1 0 1 0 0 0 1 0 0 1 0 1 0 1 1 1 1 1 0 0 0 1 0 1 1 1 0 1 0 0 0 0 0 1\n",
      " 0 0 0 1 1 0 0 0 0 0 0 1 0 1 1 0 1 0 0 0 0 0 0 1 1 1 0 0 1 0 0 0 1 0 1 0 0\n",
      " 1 0 0 0 0 0 0 0 1 1 1 0 1 1 0 0 0 1 1 1 1 0 0 0 0 0 0 0 1 0 1 1 0 0 1 1 0\n",
      " 1 0 0 0 0 0 0 0 0 0 1 0 0 0 1 0 1 1 0 0 0 1 0 1 0 0 1 0 1 1 0 1 1 0 0 1 0\n",
      " 0 1 0 0 1 1 1 0 0 0 0 0 0 1 0 1 0 0 0 0 1 1 0 0 0 1 0 1 0 0 1 0 1 0 1 0 0\n",
      " 1 1 1 1 1 0 0 1 0 0 0]\n"
     ]
    }
   ],
   "source": [
    "print(naive_bayes_pred)"
   ]
  },
  {
   "cell_type": "code",
   "execution_count": 55,
   "id": "2f426a93",
   "metadata": {},
   "outputs": [],
   "source": [
    "submission3 = pd.DataFrame({\"PassengerId\": test[\"PassengerId\"],\n",
    "                            \"Survived\": naive_bayes_pred})\n",
    "submission3.to_csv('submission3.csv', index=False)"
   ]
  },
  {
   "cell_type": "markdown",
   "id": "b3f6709c",
   "metadata": {},
   "source": [
    "# decision trees"
   ]
  },
  {
   "cell_type": "code",
   "execution_count": 20,
   "id": "93006930",
   "metadata": {},
   "outputs": [],
   "source": [
    "from sklearn.tree import DecisionTreeClassifier"
   ]
  },
  {
   "cell_type": "code",
   "execution_count": 20,
   "id": "736a5734",
   "metadata": {},
   "outputs": [
    {
     "data": {
      "text/plain": [
       "DecisionTreeClassifier(max_depth=2, random_state=42)"
      ]
     },
     "execution_count": 20,
     "metadata": {},
     "output_type": "execute_result"
    }
   ],
   "source": [
    "tree_clf = DecisionTreeClassifier(max_depth=2, random_state=42)\n",
    "tree_clf.fit(X_train, y_train)"
   ]
  },
  {
   "cell_type": "code",
   "execution_count": 21,
   "id": "b2a9e742",
   "metadata": {},
   "outputs": [],
   "source": [
    "dt_pred=tree_clf.predict(X_test)"
   ]
  },
  {
   "cell_type": "code",
   "execution_count": 22,
   "id": "3bb05524",
   "metadata": {},
   "outputs": [],
   "source": [
    "submission4 = pd.DataFrame({\"PassengerId\": test[\"PassengerId\"],\n",
    "                            \"Survived\": dt_pred})\n",
    "submission4.to_csv('submission4.csv', index=False)"
   ]
  },
  {
   "cell_type": "markdown",
   "id": "01c0ad8f",
   "metadata": {},
   "source": [
    "GRID SEARCH METHOD"
   ]
  },
  {
   "cell_type": "code",
   "execution_count": 25,
   "id": "c67f3141",
   "metadata": {},
   "outputs": [
    {
     "name": "stdout",
     "output_type": "stream",
     "text": [
      "Fitting 3 folds for each of 294 candidates, totalling 882 fits\n"
     ]
    },
    {
     "data": {
      "text/plain": [
       "GridSearchCV(cv=3, estimator=DecisionTreeClassifier(random_state=42),\n",
       "             param_grid={'max_leaf_nodes': [2, 3, 4, 5, 6, 7, 8, 9, 10, 11, 12,\n",
       "                                            13, 14, 15, 16, 17, 18, 19, 20, 21,\n",
       "                                            22, 23, 24, 25, 26, 27, 28, 29, 30,\n",
       "                                            31, ...],\n",
       "                         'min_samples_split': [2, 3, 4]},\n",
       "             verbose=1)"
      ]
     },
     "execution_count": 25,
     "metadata": {},
     "output_type": "execute_result"
    }
   ],
   "source": [
    "params = {'max_leaf_nodes': list(range(2, 100)), 'min_samples_split': [2, 3, 4]}\n",
    "grid_search_cv = GridSearchCV(DecisionTreeClassifier(random_state=42), params, verbose=1, cv=3)\n",
    "\n",
    "grid_search_cv.fit(X_train, y_train)"
   ]
  },
  {
   "cell_type": "code",
   "execution_count": 26,
   "id": "b341a592",
   "metadata": {},
   "outputs": [],
   "source": [
    "dt_pred=grid_search_cv.predict(X_test)"
   ]
  },
  {
   "cell_type": "code",
   "execution_count": 27,
   "id": "b21292d7",
   "metadata": {},
   "outputs": [],
   "source": [
    "submission4 = pd.DataFrame({\"PassengerId\": test[\"PassengerId\"],\n",
    "                            \"Survived\": dt_pred})\n",
    "submission4.to_csv('submission4.csv', index=False)"
   ]
  },
  {
   "cell_type": "markdown",
   "id": "8858880b",
   "metadata": {},
   "source": [
    "# ENSEMBLE METHOD :- voting classifier"
   ]
  },
  {
   "cell_type": "markdown",
   "id": "70fd7878",
   "metadata": {},
   "source": [
    "HARD VOTING"
   ]
  },
  {
   "cell_type": "code",
   "execution_count": 29,
   "id": "bc70d5d1",
   "metadata": {},
   "outputs": [],
   "source": [
    "from sklearn.ensemble import RandomForestClassifier\n",
    "from sklearn.ensemble import VotingClassifier\n",
    "from sklearn.linear_model import LogisticRegression\n",
    "from sklearn.svm import SVC\n",
    "\n",
    "log_clf = LogisticRegression(solver=\"lbfgs\", random_state=42)\n",
    "rnd_clf = RandomForestClassifier(n_estimators=100, random_state=42)\n",
    "svm_clf = SVC(gamma=\"scale\", random_state=42)\n",
    "\n",
    "voting_clf = VotingClassifier(\n",
    "    estimators=[('lr', log_clf), ('rf', rnd_clf), ('svc', svm_clf)],\n",
    "    voting='hard')"
   ]
  },
  {
   "cell_type": "code",
   "execution_count": 30,
   "id": "fe3cf6ac",
   "metadata": {},
   "outputs": [
    {
     "name": "stderr",
     "output_type": "stream",
     "text": [
      "C:\\Users\\itsdi\\anaconda3\\lib\\site-packages\\sklearn\\linear_model\\_logistic.py:763: ConvergenceWarning: lbfgs failed to converge (status=1):\n",
      "STOP: TOTAL NO. of ITERATIONS REACHED LIMIT.\n",
      "\n",
      "Increase the number of iterations (max_iter) or scale the data as shown in:\n",
      "    https://scikit-learn.org/stable/modules/preprocessing.html\n",
      "Please also refer to the documentation for alternative solver options:\n",
      "    https://scikit-learn.org/stable/modules/linear_model.html#logistic-regression\n",
      "  n_iter_i = _check_optimize_result(\n"
     ]
    },
    {
     "data": {
      "text/plain": [
       "VotingClassifier(estimators=[('lr', LogisticRegression(random_state=42)),\n",
       "                             ('rf', RandomForestClassifier(random_state=42)),\n",
       "                             ('svc', SVC(random_state=42))])"
      ]
     },
     "execution_count": 30,
     "metadata": {},
     "output_type": "execute_result"
    }
   ],
   "source": [
    "voting_clf.fit(X_train, y_train)"
   ]
  },
  {
   "cell_type": "code",
   "execution_count": 39,
   "id": "63e704d2",
   "metadata": {},
   "outputs": [],
   "source": [
    "hard_voting_pred=voting_clf.predict(X_test)"
   ]
  },
  {
   "cell_type": "code",
   "execution_count": 40,
   "id": "90ece317",
   "metadata": {},
   "outputs": [],
   "source": [
    "submission5 = pd.DataFrame({\"PassengerId\": test[\"PassengerId\"],\n",
    "                            \"Survived\": hard_voting_pred})\n",
    "submission5.to_csv('submission5.csv', index=False)"
   ]
  },
  {
   "cell_type": "markdown",
   "id": "11c4c559",
   "metadata": {},
   "source": [
    "SOFT VOTING"
   ]
  },
  {
   "cell_type": "code",
   "execution_count": 34,
   "id": "beac7158",
   "metadata": {},
   "outputs": [
    {
     "name": "stderr",
     "output_type": "stream",
     "text": [
      "C:\\Users\\itsdi\\anaconda3\\lib\\site-packages\\sklearn\\linear_model\\_logistic.py:763: ConvergenceWarning: lbfgs failed to converge (status=1):\n",
      "STOP: TOTAL NO. of ITERATIONS REACHED LIMIT.\n",
      "\n",
      "Increase the number of iterations (max_iter) or scale the data as shown in:\n",
      "    https://scikit-learn.org/stable/modules/preprocessing.html\n",
      "Please also refer to the documentation for alternative solver options:\n",
      "    https://scikit-learn.org/stable/modules/linear_model.html#logistic-regression\n",
      "  n_iter_i = _check_optimize_result(\n"
     ]
    },
    {
     "data": {
      "text/plain": [
       "VotingClassifier(estimators=[('lr', LogisticRegression(random_state=42)),\n",
       "                             ('rf', RandomForestClassifier(random_state=42)),\n",
       "                             ('svc', SVC(probability=True, random_state=42))],\n",
       "                 voting='soft')"
      ]
     },
     "execution_count": 34,
     "metadata": {},
     "output_type": "execute_result"
    }
   ],
   "source": [
    "log_clf = LogisticRegression(solver=\"lbfgs\", random_state=42)\n",
    "rnd_clf = RandomForestClassifier(n_estimators=100, random_state=42)\n",
    "svm_clf = SVC(gamma=\"scale\", probability=True, random_state=42)\n",
    "\n",
    "voting_clf = VotingClassifier(\n",
    "    estimators=[('lr', log_clf), ('rf', rnd_clf), ('svc', svm_clf)],\n",
    "    voting='soft')\n",
    "voting_clf.fit(X_train, y_train)"
   ]
  },
  {
   "cell_type": "code",
   "execution_count": 41,
   "id": "4c7070a8",
   "metadata": {},
   "outputs": [],
   "source": [
    "soft_voting_pred=voting_clf.predict(X_test)"
   ]
  },
  {
   "cell_type": "code",
   "execution_count": 42,
   "id": "c0a30521",
   "metadata": {},
   "outputs": [],
   "source": [
    "submission6 = pd.DataFrame({\"PassengerId\": test[\"PassengerId\"],\n",
    "                            \"Survived\": soft_voting_pred})\n",
    "submission6.to_csv('submission6.csv', index=False)"
   ]
  },
  {
   "cell_type": "markdown",
   "id": "56a18f78",
   "metadata": {},
   "source": [
    "# RANDOM FOREST CLASSIFIER"
   ]
  },
  {
   "cell_type": "code",
   "execution_count": 43,
   "id": "d2e69e22",
   "metadata": {},
   "outputs": [],
   "source": [
    "from sklearn.ensemble import RandomForestClassifier\n",
    "\n",
    "rnd_clf = RandomForestClassifier(n_estimators=500, max_leaf_nodes=16, random_state=42)\n",
    "rnd_clf.fit(X_train, y_train)\n",
    "\n",
    "y_pred_rf = rnd_clf.predict(X_test)"
   ]
  },
  {
   "cell_type": "code",
   "execution_count": 44,
   "id": "693415dd",
   "metadata": {},
   "outputs": [],
   "source": [
    "submission7 = pd.DataFrame({\"PassengerId\": test[\"PassengerId\"],\n",
    "                            \"Survived\": y_pred_rf})\n",
    "submission7.to_csv('submission7.csv', index=False)"
   ]
  },
  {
   "cell_type": "markdown",
   "id": "4dded43f",
   "metadata": {},
   "source": [
    "# AdaBoost"
   ]
  },
  {
   "cell_type": "code",
   "execution_count": 21,
   "id": "98cb024e",
   "metadata": {},
   "outputs": [
    {
     "data": {
      "text/plain": [
       "AdaBoostClassifier(base_estimator=DecisionTreeClassifier(max_depth=1),\n",
       "                   learning_rate=0.5, n_estimators=200, random_state=42)"
      ]
     },
     "execution_count": 21,
     "metadata": {},
     "output_type": "execute_result"
    }
   ],
   "source": [
    "from sklearn.ensemble import AdaBoostClassifier\n",
    "\n",
    "ada_clf = AdaBoostClassifier(\n",
    "    DecisionTreeClassifier(max_depth=1), n_estimators=200,\n",
    "    algorithm=\"SAMME.R\", learning_rate=0.5, random_state=42)\n",
    "ada_clf.fit(X_train, y_train)"
   ]
  },
  {
   "cell_type": "code",
   "execution_count": 22,
   "id": "4c488b1f",
   "metadata": {},
   "outputs": [],
   "source": [
    "ada_pred=ada_clf.predict(X_test)"
   ]
  },
  {
   "cell_type": "code",
   "execution_count": 23,
   "id": "2d0c11d5",
   "metadata": {},
   "outputs": [],
   "source": [
    "submission8 = pd.DataFrame({\"PassengerId\": test[\"PassengerId\"],\n",
    "                            \"Survived\": ada_pred})\n",
    "submission8.to_csv('submission8.csv', index=False)"
   ]
  }
 ],
 "metadata": {
  "kernelspec": {
   "display_name": "Python 3 (ipykernel)",
   "language": "python",
   "name": "python3"
  },
  "language_info": {
   "codemirror_mode": {
    "name": "ipython",
    "version": 3
   },
   "file_extension": ".py",
   "mimetype": "text/x-python",
   "name": "python",
   "nbconvert_exporter": "python",
   "pygments_lexer": "ipython3",
   "version": "3.9.7"
  }
 },
 "nbformat": 4,
 "nbformat_minor": 5
}
